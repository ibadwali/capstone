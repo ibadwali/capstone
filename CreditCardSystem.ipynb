{
 "cells": [
  {
   "cell_type": "code",
   "execution_count": 14,
   "metadata": {},
   "outputs": [],
   "source": [
    "from pyspark.sql import SparkSession"
   ]
  },
  {
   "cell_type": "code",
   "execution_count": 15,
   "metadata": {},
   "outputs": [],
   "source": [
    "spark = SparkSession.builder.appName(\"CreditCardSystem\").getOrCreate()"
   ]
  },
  {
   "cell_type": "code",
   "execution_count": 3,
   "metadata": {},
   "outputs": [],
   "source": [
    "branch_df = spark.read.json(\"cdw_sapp_branch.json\")\n",
    "creditcard_df = spark.read.json(\"cdw_sapp_credit.json\")\n",
    "customer_df = spark.read.json(\"cdw_sapp_custmer.json\")"
   ]
  },
  {
   "cell_type": "code",
   "execution_count": 4,
   "metadata": {},
   "outputs": [
    {
     "name": "stdout",
     "output_type": "stream",
     "text": [
      "+-----------------+-----------+------------+------------+------------+-------------------+----------+--------------------+\n",
      "|      BRANCH_CITY|BRANCH_CODE| BRANCH_NAME|BRANCH_PHONE|BRANCH_STATE|      BRANCH_STREET|BRANCH_ZIP|        LAST_UPDATED|\n",
      "+-----------------+-----------+------------+------------+------------+-------------------+----------+--------------------+\n",
      "|        Lakeville|          1|Example Bank|  1234565276|          MN|       Bridle Court|     55044|2018-04-18T16:51:...|\n",
      "|          Huntley|          2|Example Bank|  1234618993|          IL|  Washington Street|     60142|2018-04-18T16:51:...|\n",
      "|SouthRichmondHill|          3|Example Bank|  1234985926|          NY|      Warren Street|     11419|2018-04-18T16:51:...|\n",
      "|       Middleburg|          4|Example Bank|  1234663064|          FL|   Cleveland Street|     32068|2018-04-18T16:51:...|\n",
      "|    KingOfPrussia|          5|Example Bank|  1234849701|          PA|        14th Street|     19406|2018-04-18T16:51:...|\n",
      "|         Paterson|          7|Example Bank|  1234144890|          NJ|   Jefferson Street|      7501|2018-04-18T16:51:...|\n",
      "|        Pittsford|          8|Example Bank|  1234678272|          NY|           B Street|     14534|2018-04-18T16:51:...|\n",
      "|     Wethersfield|          9|Example Bank|  1234675219|          CT|    Jefferson Court|      6109|2018-04-18T16:51:...|\n",
      "|     NorthOlmsted|         10|Example Bank|  1234145047|          OH|     Cambridge Road|     44070|2018-04-18T16:51:...|\n",
      "|     Hillsborough|         11|Example Bank|  1234366354|          NJ|    3rd Street West|      8844|2018-04-18T16:51:...|\n",
      "|   MadisonHeights|         12|Example Bank|  1234867175|          MI|          Mill Road|     48071|2018-04-18T16:51:...|\n",
      "|           Oviedo|         14|Example Bank|  1234938460|          FL|  Washington Street|     32765|2018-04-18T16:51:...|\n",
      "|    Mechanicsburg|         15|Example Bank|  1234462043|          PA|    Chestnut Street|     17050|2018-04-18T16:51:...|\n",
      "|        Plainview|         16|Example Bank|  1234857525|          NY|       Monroe Drive|     11803|2018-04-18T16:51:...|\n",
      "|          Paducah|         17|Example Bank|  1234546360|          KY|    Railroad Street|     42001|2018-04-18T16:51:...|\n",
      "|     Harleysville|         18|Example Bank|  1234824455|          PA|Church Street South|     19438|2018-04-18T16:51:...|\n",
      "|     SilverSpring|         19|Example Bank|  1234484380|          MD|        King Street|     20901|2018-04-18T16:51:...|\n",
      "|       Burnsville|         20|Example Bank|  1234840138|          MN|   Canterbury Drive|     55337|2018-04-18T16:51:...|\n",
      "|           Tacoma|         21|Example Bank|  1234362433|          WA|         2nd Avenue|     98444|2018-04-18T16:51:...|\n",
      "|         Carlisle|         22|Example Bank|  1234922492|          PA| Front Street South|     17013|2018-04-18T16:51:...|\n",
      "+-----------------+-----------+------------+------------+------------+-------------------+----------+--------------------+\n",
      "only showing top 20 rows\n",
      "\n",
      "+-----------+----------------+---------+---+-----+--------------+----------------+-----------------+----+\n",
      "|BRANCH_CODE|  CREDIT_CARD_NO| CUST_SSN|DAY|MONTH|TRANSACTION_ID|TRANSACTION_TYPE|TRANSACTION_VALUE|YEAR|\n",
      "+-----------+----------------+---------+---+-----+--------------+----------------+-----------------+----+\n",
      "|        114|4210653349028689|123459988| 14|    2|             1|       Education|             78.9|2018|\n",
      "|         35|4210653349028689|123459988| 20|    3|             2|   Entertainment|            14.24|2018|\n",
      "|        160|4210653349028689|123459988|  8|    7|             3|         Grocery|             56.7|2018|\n",
      "|        114|4210653349028689|123459988| 19|    4|             4|   Entertainment|            59.73|2018|\n",
      "|         93|4210653349028689|123459988| 10|   10|             5|             Gas|             3.59|2018|\n",
      "|        164|4210653349028689|123459988| 28|    5|             6|       Education|             6.89|2018|\n",
      "|        119|4210653349028689|123459988| 19|    5|             7|   Entertainment|            43.39|2018|\n",
      "|         23|4210653349028689|123459988|  8|    8|             8|             Gas|            95.39|2018|\n",
      "|        166|4210653349028689|123459988| 18|    3|             9|   Entertainment|            93.26|2018|\n",
      "|         83|4210653349028689|123459988|  3|    9|            10|           Bills|           100.38|2018|\n",
      "|         52|4210653349028689|123459988| 21|    8|            11|             Gas|            98.75|2018|\n",
      "|         17|4210653349028689|123459988| 24|   12|            12|             Gas|            42.71|2018|\n",
      "|         80|4210653349028689|123459988|  3|    4|            13|         Grocery|            40.24|2018|\n",
      "|         50|4210653349028689|123459988| 15|    4|            14|           Bills|            17.81|2018|\n",
      "|        123|4210653349028689|123459988| 17|    5|            15|           Bills|             29.0|2018|\n",
      "|          9|4210653349028689|123459988|  6|    7|            16|            Test|            70.63|2018|\n",
      "|          3|4210653349028689|123459988| 28|    9|            17|            Test|            27.04|2018|\n",
      "|        135|4210653349028689|123459988|  4|    7|            18|   Entertainment|            88.75|2018|\n",
      "|        103|4210653349028689|123459988| 24|    4|            19|            Test|            77.02|2018|\n",
      "|         78|4210653349028689|123459988|  8|   10|            20|           Bills|            34.34|2018|\n",
      "+-----------+----------------+---------+---+-----+--------------+----------------+-----------------+----+\n",
      "only showing top 20 rows\n",
      "\n",
      "+------+----------------+------------+-------------+--------------------+----------+----------+--------+----------+---------+--------------------+-----------+---------+-----------------+\n",
      "|APT_NO|  CREDIT_CARD_NO|   CUST_CITY| CUST_COUNTRY|          CUST_EMAIL|CUST_PHONE|CUST_STATE|CUST_ZIP|FIRST_NAME|LAST_NAME|        LAST_UPDATED|MIDDLE_NAME|      SSN|      STREET_NAME|\n",
      "+------+----------------+------------+-------------+--------------------+----------+----------+--------+----------+---------+--------------------+-----------+---------+-----------------+\n",
      "|   656|4210653310061055|     Natchez|United States| AHooper@example.com|   1237818|        MS|   39120|      Alec|   Hooper|2018-04-21T12:49:...|         Wm|123456100|Main Street North|\n",
      "|   829|4210653310102868|Wethersfield|United States| EHolman@example.com|   1238933|        CT|   06109|      Etta|   Holman|2018-04-21T12:49:...|    Brendan|123453023|    Redwood Drive|\n",
      "|   683|4210653310116272|     Huntley|United States| WDunham@example.com|   1243018|        IL|   60142|    Wilber|   Dunham|2018-04-21T12:49:...|   Ezequiel|123454487| 12th Street East|\n",
      "|   253|4210653310195948|   NewBerlin|United States|  EHardy@example.com|   1243215|        WI|   53151|   Eugenio|    Hardy|2018-04-21T12:49:...|      Trina|123459758|Country Club Road|\n",
      "|   301|4210653310356919|      ElPaso|United States|  WAyers@example.com|   1242074|        TX|   79930|   Wilfred|    Ayers|2018-04-21T12:49:...|        May|123454431|   Madison Street|\n",
      "|     3|4210653310395982|NorthOlmsted|United States|BWoodard@example.com|   1242570|        OH|   44070|      Beau|  Woodard|2018-04-21T12:49:...|    Ambrose|123454202|   Colonial Drive|\n",
      "|    84|4210653310400536|      Vienna|United States|   SKemp@example.com|   1239685|        VA|   22180|    Sheila|     Kemp|2018-04-21T12:49:...|      Larry|123451799|   Belmont Avenue|\n",
      "|   728|4210653310459911|      Duarte|United States| WHurley@example.com|   1238213|        CA|   91010|     Wendy|   Hurley|2018-04-21T12:49:...|        Ora|123453875|     Oxford Court|\n",
      "|    81|4210653310773972|      Owosso|United States|AGilmore@example.com|   1240689|        MI|   48867|      Alec|  Gilmore|2018-04-21T12:49:...|     Tracie|123457511|    Forest Street|\n",
      "|   561|4210653310794854|        Zion|United States|    BLau@example.com|   1235222|        IL|   60099|    Barbra|      Lau|2018-04-21T12:49:...|    Mitchel|123457464|     Court Street|\n",
      "|   622|4210653310817373|  Youngstown|United States|EThomson@example.com|   1241363|        OH|   44512|   Edmundo|  Thomson|2018-04-21T12:49:...|      Denny|123457639|    Cypress Court|\n",
      "|   924|4210653310844617| Summerville|United States| ETruong@example.com|   1236228|        SC|   29483|      Elsa|   Truong|2018-04-21T12:49:...|   Isabelle|123453242|  8th Street West|\n",
      "|   611|4210653311015303|      ElPaso|United States|HMckinney@example...|   1238165|        TX|   79930|     Homer| Mckinney|2018-04-21T12:49:...|      Henry|123454339|      East Avenue|\n",
      "|   680|4210653311215039|      Fenton|United States|   RKidd@example.com|   1234730|        MI|   48430|      Rita|     Kidd|2018-04-21T12:49:...|     Rickey|123454537|         Route 44|\n",
      "|    71|4210653311229354|  Grandville|United States|ABallard@example.com|   1242113|        MI|   49418|    Amalia|  Ballard|2018-04-21T12:49:...|  Heriberto|123452373|    Warren Street|\n",
      "|   195|4210653311652836|    YubaCity|United States| PThomas@example.com|   1239888|        CA|   95993|     Patty|   Thomas|2018-04-21T12:49:...|   Angelita|123455343|     Jones Street|\n",
      "|   500|4210653311707126|   CapeCoral|United States| JMorrow@example.com|   1240158|        FL|   33904|  Josefina|   Morrow|2018-04-21T12:49:...|   Dorothea|123451533|       New Street|\n",
      "|   989|4210653311730764|  Brookfield|United States|NAndrews@example.com|   1241408|        WI|   53045|    Nelson|  Andrews|2018-04-21T12:49:...|  Jefferson|123459278|  Division Street|\n",
      "|   810|4210653311898082|    Richmond|United States|MSchneider@exampl...|   1238390|        VA|   23223|    Miquel|Schneider|2018-04-21T12:49:...|     Maximo|123456915|     Maple Street|\n",
      "|   649|4210653312021765| WestChester|United States|PTidwell@example.com|   1235067|        PA|   19380|    Parker|  Tidwell|2018-04-21T12:49:...|    Arnulfo|123453807|       Eagle Road|\n",
      "+------+----------------+------------+-------------+--------------------+----------+----------+--------+----------+---------+--------------------+-----------+---------+-----------------+\n",
      "only showing top 20 rows\n",
      "\n"
     ]
    }
   ],
   "source": [
    "branch_df.show()\n",
    "creditcard_df.show()\n",
    "customer_df.show()"
   ]
  },
  {
   "cell_type": "code",
   "execution_count": 5,
   "metadata": {},
   "outputs": [],
   "source": [
    "from pyspark.sql.functions import initcap, lower, concat_ws, regexp_replace\n"
   ]
  },
  {
   "cell_type": "code",
   "execution_count": 6,
   "metadata": {},
   "outputs": [],
   "source": [
    "customer_df = customer_df.withColumn(\"FIRST_NAME\", initcap(customer_df[\"FIRST_NAME\"]))\n",
    "customer_df = customer_df.withColumn(\"MIDDLE_NAME\", lower(customer_df[\"MIDDLE_NAME\"]))\n",
    "customer_df = customer_df.withColumn(\"LAST_NAME\", initcap(customer_df[\"LAST_NAME\"]))\n",
    "customer_df = customer_df.withColumn(\"FULL_STREET_ADDRESS\", concat_ws(\", \", customer_df[\"STREET_NAME\"], customer_df[\"APT_NO\"]))\n"
   ]
  },
  {
   "cell_type": "code",
   "execution_count": 7,
   "metadata": {},
   "outputs": [
    {
     "name": "stdout",
     "output_type": "stream",
     "text": [
      "+------+----------------+------------+-------------+--------------------+----------+----------+--------+----------+---------+--------------------+-----------+---------+-----------------+--------------------+\n",
      "|APT_NO|  CREDIT_CARD_NO|   CUST_CITY| CUST_COUNTRY|          CUST_EMAIL|CUST_PHONE|CUST_STATE|CUST_ZIP|FIRST_NAME|LAST_NAME|        LAST_UPDATED|MIDDLE_NAME|      SSN|      STREET_NAME| FULL_STREET_ADDRESS|\n",
      "+------+----------------+------------+-------------+--------------------+----------+----------+--------+----------+---------+--------------------+-----------+---------+-----------------+--------------------+\n",
      "|   656|4210653310061055|     Natchez|United States| AHooper@example.com|   1237818|        MS|   39120|      Alec|   Hooper|2018-04-21T12:49:...|         wm|123456100|Main Street North|Main Street North...|\n",
      "|   829|4210653310102868|Wethersfield|United States| EHolman@example.com|   1238933|        CT|   06109|      Etta|   Holman|2018-04-21T12:49:...|    brendan|123453023|    Redwood Drive|  Redwood Drive, 829|\n",
      "|   683|4210653310116272|     Huntley|United States| WDunham@example.com|   1243018|        IL|   60142|    Wilber|   Dunham|2018-04-21T12:49:...|   ezequiel|123454487| 12th Street East|12th Street East,...|\n",
      "|   253|4210653310195948|   NewBerlin|United States|  EHardy@example.com|   1243215|        WI|   53151|   Eugenio|    Hardy|2018-04-21T12:49:...|      trina|123459758|Country Club Road|Country Club Road...|\n",
      "|   301|4210653310356919|      ElPaso|United States|  WAyers@example.com|   1242074|        TX|   79930|   Wilfred|    Ayers|2018-04-21T12:49:...|        may|123454431|   Madison Street| Madison Street, 301|\n",
      "|     3|4210653310395982|NorthOlmsted|United States|BWoodard@example.com|   1242570|        OH|   44070|      Beau|  Woodard|2018-04-21T12:49:...|    ambrose|123454202|   Colonial Drive|   Colonial Drive, 3|\n",
      "|    84|4210653310400536|      Vienna|United States|   SKemp@example.com|   1239685|        VA|   22180|    Sheila|     Kemp|2018-04-21T12:49:...|      larry|123451799|   Belmont Avenue|  Belmont Avenue, 84|\n",
      "|   728|4210653310459911|      Duarte|United States| WHurley@example.com|   1238213|        CA|   91010|     Wendy|   Hurley|2018-04-21T12:49:...|        ora|123453875|     Oxford Court|   Oxford Court, 728|\n",
      "|    81|4210653310773972|      Owosso|United States|AGilmore@example.com|   1240689|        MI|   48867|      Alec|  Gilmore|2018-04-21T12:49:...|     tracie|123457511|    Forest Street|   Forest Street, 81|\n",
      "|   561|4210653310794854|        Zion|United States|    BLau@example.com|   1235222|        IL|   60099|    Barbra|      Lau|2018-04-21T12:49:...|    mitchel|123457464|     Court Street|   Court Street, 561|\n",
      "|   622|4210653310817373|  Youngstown|United States|EThomson@example.com|   1241363|        OH|   44512|   Edmundo|  Thomson|2018-04-21T12:49:...|      denny|123457639|    Cypress Court|  Cypress Court, 622|\n",
      "|   924|4210653310844617| Summerville|United States| ETruong@example.com|   1236228|        SC|   29483|      Elsa|   Truong|2018-04-21T12:49:...|   isabelle|123453242|  8th Street West|8th Street West, 924|\n",
      "|   611|4210653311015303|      ElPaso|United States|HMckinney@example...|   1238165|        TX|   79930|     Homer| Mckinney|2018-04-21T12:49:...|      henry|123454339|      East Avenue|    East Avenue, 611|\n",
      "|   680|4210653311215039|      Fenton|United States|   RKidd@example.com|   1234730|        MI|   48430|      Rita|     Kidd|2018-04-21T12:49:...|     rickey|123454537|         Route 44|       Route 44, 680|\n",
      "|    71|4210653311229354|  Grandville|United States|ABallard@example.com|   1242113|        MI|   49418|    Amalia|  Ballard|2018-04-21T12:49:...|  heriberto|123452373|    Warren Street|   Warren Street, 71|\n",
      "|   195|4210653311652836|    YubaCity|United States| PThomas@example.com|   1239888|        CA|   95993|     Patty|   Thomas|2018-04-21T12:49:...|   angelita|123455343|     Jones Street|   Jones Street, 195|\n",
      "|   500|4210653311707126|   CapeCoral|United States| JMorrow@example.com|   1240158|        FL|   33904|  Josefina|   Morrow|2018-04-21T12:49:...|   dorothea|123451533|       New Street|     New Street, 500|\n",
      "|   989|4210653311730764|  Brookfield|United States|NAndrews@example.com|   1241408|        WI|   53045|    Nelson|  Andrews|2018-04-21T12:49:...|  jefferson|123459278|  Division Street|Division Street, 989|\n",
      "|   810|4210653311898082|    Richmond|United States|MSchneider@exampl...|   1238390|        VA|   23223|    Miquel|Schneider|2018-04-21T12:49:...|     maximo|123456915|     Maple Street|   Maple Street, 810|\n",
      "|   649|4210653312021765| WestChester|United States|PTidwell@example.com|   1235067|        PA|   19380|    Parker|  Tidwell|2018-04-21T12:49:...|    arnulfo|123453807|       Eagle Road|     Eagle Road, 649|\n",
      "+------+----------------+------------+-------------+--------------------+----------+----------+--------+----------+---------+--------------------+-----------+---------+-----------------+--------------------+\n",
      "only showing top 20 rows\n",
      "\n"
     ]
    }
   ],
   "source": [
    "customer_df.show()"
   ]
  },
  {
   "cell_type": "code",
   "execution_count": 8,
   "metadata": {},
   "outputs": [],
   "source": [
    "from pyspark.sql import functions as F\n",
    "\n",
    "customer_df = customer_df.withColumn(\n",
    "    \"CUST_PHONE\",\n",
    "    F.when(\n",
    "        F.length(customer_df[\"CUST_PHONE\"]) == 7,\n",
    "        F.concat(F.lit(\"555\"), customer_df[\"CUST_PHONE\"])\n",
    "    ).otherwise(customer_df[\"CUST_PHONE\"])\n",
    ")"
   ]
  },
  {
   "cell_type": "code",
   "execution_count": 9,
   "metadata": {},
   "outputs": [
    {
     "name": "stdout",
     "output_type": "stream",
     "text": [
      "+------+----------------+------------+-------------+--------------------+----------+----------+--------+----------+---------+--------------------+-----------+---------+-----------------+--------------------+\n",
      "|APT_NO|  CREDIT_CARD_NO|   CUST_CITY| CUST_COUNTRY|          CUST_EMAIL|CUST_PHONE|CUST_STATE|CUST_ZIP|FIRST_NAME|LAST_NAME|        LAST_UPDATED|MIDDLE_NAME|      SSN|      STREET_NAME| FULL_STREET_ADDRESS|\n",
      "+------+----------------+------------+-------------+--------------------+----------+----------+--------+----------+---------+--------------------+-----------+---------+-----------------+--------------------+\n",
      "|   656|4210653310061055|     Natchez|United States| AHooper@example.com|5551237818|        MS|   39120|      Alec|   Hooper|2018-04-21T12:49:...|         wm|123456100|Main Street North|Main Street North...|\n",
      "|   829|4210653310102868|Wethersfield|United States| EHolman@example.com|5551238933|        CT|   06109|      Etta|   Holman|2018-04-21T12:49:...|    brendan|123453023|    Redwood Drive|  Redwood Drive, 829|\n",
      "|   683|4210653310116272|     Huntley|United States| WDunham@example.com|5551243018|        IL|   60142|    Wilber|   Dunham|2018-04-21T12:49:...|   ezequiel|123454487| 12th Street East|12th Street East,...|\n",
      "|   253|4210653310195948|   NewBerlin|United States|  EHardy@example.com|5551243215|        WI|   53151|   Eugenio|    Hardy|2018-04-21T12:49:...|      trina|123459758|Country Club Road|Country Club Road...|\n",
      "|   301|4210653310356919|      ElPaso|United States|  WAyers@example.com|5551242074|        TX|   79930|   Wilfred|    Ayers|2018-04-21T12:49:...|        may|123454431|   Madison Street| Madison Street, 301|\n",
      "|     3|4210653310395982|NorthOlmsted|United States|BWoodard@example.com|5551242570|        OH|   44070|      Beau|  Woodard|2018-04-21T12:49:...|    ambrose|123454202|   Colonial Drive|   Colonial Drive, 3|\n",
      "|    84|4210653310400536|      Vienna|United States|   SKemp@example.com|5551239685|        VA|   22180|    Sheila|     Kemp|2018-04-21T12:49:...|      larry|123451799|   Belmont Avenue|  Belmont Avenue, 84|\n",
      "|   728|4210653310459911|      Duarte|United States| WHurley@example.com|5551238213|        CA|   91010|     Wendy|   Hurley|2018-04-21T12:49:...|        ora|123453875|     Oxford Court|   Oxford Court, 728|\n",
      "|    81|4210653310773972|      Owosso|United States|AGilmore@example.com|5551240689|        MI|   48867|      Alec|  Gilmore|2018-04-21T12:49:...|     tracie|123457511|    Forest Street|   Forest Street, 81|\n",
      "|   561|4210653310794854|        Zion|United States|    BLau@example.com|5551235222|        IL|   60099|    Barbra|      Lau|2018-04-21T12:49:...|    mitchel|123457464|     Court Street|   Court Street, 561|\n",
      "|   622|4210653310817373|  Youngstown|United States|EThomson@example.com|5551241363|        OH|   44512|   Edmundo|  Thomson|2018-04-21T12:49:...|      denny|123457639|    Cypress Court|  Cypress Court, 622|\n",
      "|   924|4210653310844617| Summerville|United States| ETruong@example.com|5551236228|        SC|   29483|      Elsa|   Truong|2018-04-21T12:49:...|   isabelle|123453242|  8th Street West|8th Street West, 924|\n",
      "|   611|4210653311015303|      ElPaso|United States|HMckinney@example...|5551238165|        TX|   79930|     Homer| Mckinney|2018-04-21T12:49:...|      henry|123454339|      East Avenue|    East Avenue, 611|\n",
      "|   680|4210653311215039|      Fenton|United States|   RKidd@example.com|5551234730|        MI|   48430|      Rita|     Kidd|2018-04-21T12:49:...|     rickey|123454537|         Route 44|       Route 44, 680|\n",
      "|    71|4210653311229354|  Grandville|United States|ABallard@example.com|5551242113|        MI|   49418|    Amalia|  Ballard|2018-04-21T12:49:...|  heriberto|123452373|    Warren Street|   Warren Street, 71|\n",
      "|   195|4210653311652836|    YubaCity|United States| PThomas@example.com|5551239888|        CA|   95993|     Patty|   Thomas|2018-04-21T12:49:...|   angelita|123455343|     Jones Street|   Jones Street, 195|\n",
      "|   500|4210653311707126|   CapeCoral|United States| JMorrow@example.com|5551240158|        FL|   33904|  Josefina|   Morrow|2018-04-21T12:49:...|   dorothea|123451533|       New Street|     New Street, 500|\n",
      "|   989|4210653311730764|  Brookfield|United States|NAndrews@example.com|5551241408|        WI|   53045|    Nelson|  Andrews|2018-04-21T12:49:...|  jefferson|123459278|  Division Street|Division Street, 989|\n",
      "|   810|4210653311898082|    Richmond|United States|MSchneider@exampl...|5551238390|        VA|   23223|    Miquel|Schneider|2018-04-21T12:49:...|     maximo|123456915|     Maple Street|   Maple Street, 810|\n",
      "|   649|4210653312021765| WestChester|United States|PTidwell@example.com|5551235067|        PA|   19380|    Parker|  Tidwell|2018-04-21T12:49:...|    arnulfo|123453807|       Eagle Road|     Eagle Road, 649|\n",
      "+------+----------------+------------+-------------+--------------------+----------+----------+--------+----------+---------+--------------------+-----------+---------+-----------------+--------------------+\n",
      "only showing top 20 rows\n",
      "\n"
     ]
    }
   ],
   "source": [
    "customer_df.show()"
   ]
  },
  {
   "cell_type": "code",
   "execution_count": 10,
   "metadata": {},
   "outputs": [],
   "source": [
    "customer_df = customer_df.withColumn(\"CUST_PHONE\",\n",
    "                                      F.concat(F.lit(\"(\"),\n",
    "                                               F.substring(\"CUST_PHONE\", 1, 3),\n",
    "                                               F.lit(\")\"),\n",
    "                                               F.substring(\"CUST_PHONE\", 4, 3),\n",
    "                                               F.lit(\"-\"),\n",
    "                                               F.substring(\"CUST_PHONE\", 7, 4)))\n"
   ]
  },
  {
   "cell_type": "code",
   "execution_count": 11,
   "metadata": {},
   "outputs": [
    {
     "name": "stdout",
     "output_type": "stream",
     "text": [
      "+------+----------------+------------+-------------+--------------------+-------------+----------+--------+----------+---------+--------------------+-----------+---------+-----------------+--------------------+\n",
      "|APT_NO|  CREDIT_CARD_NO|   CUST_CITY| CUST_COUNTRY|          CUST_EMAIL|   CUST_PHONE|CUST_STATE|CUST_ZIP|FIRST_NAME|LAST_NAME|        LAST_UPDATED|MIDDLE_NAME|      SSN|      STREET_NAME| FULL_STREET_ADDRESS|\n",
      "+------+----------------+------------+-------------+--------------------+-------------+----------+--------+----------+---------+--------------------+-----------+---------+-----------------+--------------------+\n",
      "|   656|4210653310061055|     Natchez|United States| AHooper@example.com|(555)123-7818|        MS|   39120|      Alec|   Hooper|2018-04-21T12:49:...|         wm|123456100|Main Street North|Main Street North...|\n",
      "|   829|4210653310102868|Wethersfield|United States| EHolman@example.com|(555)123-8933|        CT|   06109|      Etta|   Holman|2018-04-21T12:49:...|    brendan|123453023|    Redwood Drive|  Redwood Drive, 829|\n",
      "|   683|4210653310116272|     Huntley|United States| WDunham@example.com|(555)124-3018|        IL|   60142|    Wilber|   Dunham|2018-04-21T12:49:...|   ezequiel|123454487| 12th Street East|12th Street East,...|\n",
      "|   253|4210653310195948|   NewBerlin|United States|  EHardy@example.com|(555)124-3215|        WI|   53151|   Eugenio|    Hardy|2018-04-21T12:49:...|      trina|123459758|Country Club Road|Country Club Road...|\n",
      "|   301|4210653310356919|      ElPaso|United States|  WAyers@example.com|(555)124-2074|        TX|   79930|   Wilfred|    Ayers|2018-04-21T12:49:...|        may|123454431|   Madison Street| Madison Street, 301|\n",
      "|     3|4210653310395982|NorthOlmsted|United States|BWoodard@example.com|(555)124-2570|        OH|   44070|      Beau|  Woodard|2018-04-21T12:49:...|    ambrose|123454202|   Colonial Drive|   Colonial Drive, 3|\n",
      "|    84|4210653310400536|      Vienna|United States|   SKemp@example.com|(555)123-9685|        VA|   22180|    Sheila|     Kemp|2018-04-21T12:49:...|      larry|123451799|   Belmont Avenue|  Belmont Avenue, 84|\n",
      "|   728|4210653310459911|      Duarte|United States| WHurley@example.com|(555)123-8213|        CA|   91010|     Wendy|   Hurley|2018-04-21T12:49:...|        ora|123453875|     Oxford Court|   Oxford Court, 728|\n",
      "|    81|4210653310773972|      Owosso|United States|AGilmore@example.com|(555)124-0689|        MI|   48867|      Alec|  Gilmore|2018-04-21T12:49:...|     tracie|123457511|    Forest Street|   Forest Street, 81|\n",
      "|   561|4210653310794854|        Zion|United States|    BLau@example.com|(555)123-5222|        IL|   60099|    Barbra|      Lau|2018-04-21T12:49:...|    mitchel|123457464|     Court Street|   Court Street, 561|\n",
      "|   622|4210653310817373|  Youngstown|United States|EThomson@example.com|(555)124-1363|        OH|   44512|   Edmundo|  Thomson|2018-04-21T12:49:...|      denny|123457639|    Cypress Court|  Cypress Court, 622|\n",
      "|   924|4210653310844617| Summerville|United States| ETruong@example.com|(555)123-6228|        SC|   29483|      Elsa|   Truong|2018-04-21T12:49:...|   isabelle|123453242|  8th Street West|8th Street West, 924|\n",
      "|   611|4210653311015303|      ElPaso|United States|HMckinney@example...|(555)123-8165|        TX|   79930|     Homer| Mckinney|2018-04-21T12:49:...|      henry|123454339|      East Avenue|    East Avenue, 611|\n",
      "|   680|4210653311215039|      Fenton|United States|   RKidd@example.com|(555)123-4730|        MI|   48430|      Rita|     Kidd|2018-04-21T12:49:...|     rickey|123454537|         Route 44|       Route 44, 680|\n",
      "|    71|4210653311229354|  Grandville|United States|ABallard@example.com|(555)124-2113|        MI|   49418|    Amalia|  Ballard|2018-04-21T12:49:...|  heriberto|123452373|    Warren Street|   Warren Street, 71|\n",
      "|   195|4210653311652836|    YubaCity|United States| PThomas@example.com|(555)123-9888|        CA|   95993|     Patty|   Thomas|2018-04-21T12:49:...|   angelita|123455343|     Jones Street|   Jones Street, 195|\n",
      "|   500|4210653311707126|   CapeCoral|United States| JMorrow@example.com|(555)124-0158|        FL|   33904|  Josefina|   Morrow|2018-04-21T12:49:...|   dorothea|123451533|       New Street|     New Street, 500|\n",
      "|   989|4210653311730764|  Brookfield|United States|NAndrews@example.com|(555)124-1408|        WI|   53045|    Nelson|  Andrews|2018-04-21T12:49:...|  jefferson|123459278|  Division Street|Division Street, 989|\n",
      "|   810|4210653311898082|    Richmond|United States|MSchneider@exampl...|(555)123-8390|        VA|   23223|    Miquel|Schneider|2018-04-21T12:49:...|     maximo|123456915|     Maple Street|   Maple Street, 810|\n",
      "|   649|4210653312021765| WestChester|United States|PTidwell@example.com|(555)123-5067|        PA|   19380|    Parker|  Tidwell|2018-04-21T12:49:...|    arnulfo|123453807|       Eagle Road|     Eagle Road, 649|\n",
      "+------+----------------+------------+-------------+--------------------+-------------+----------+--------+----------+---------+--------------------+-----------+---------+-----------------+--------------------+\n",
      "only showing top 20 rows\n",
      "\n"
     ]
    }
   ],
   "source": [
    "customer_df.show()"
   ]
  },
  {
   "cell_type": "code",
   "execution_count": 12,
   "metadata": {},
   "outputs": [],
   "source": [
    "branch_df.createOrReplaceTempView(\"branch\")\n",
    "creditcard_df.createOrReplaceTempView(\"creditcard\")\n",
    "customer_df.createOrReplaceTempView(\"customer\")"
   ]
  },
  {
   "cell_type": "code",
   "execution_count": 13,
   "metadata": {},
   "outputs": [],
   "source": [
    "result = spark.sql(\"\"\"\n",
    "    SELECT * \n",
    "    FROM customer c\n",
    "    JOIN creditcard cc ON c.SSN = cc.CUST_SSN\n",
    "    JOIN branch b ON cc.BRANCH_CODE = b.BRANCH_CODE\n",
    "\"\"\")\n"
   ]
  },
  {
   "cell_type": "code",
   "execution_count": null,
   "metadata": {},
   "outputs": [],
   "source": []
  },
  {
   "cell_type": "code",
   "execution_count": 14,
   "metadata": {},
   "outputs": [
    {
     "name": "stdout",
     "output_type": "stream",
     "text": [
      "+------+----------------+------------+-------------+-------------------+-------------+----------+--------+----------+---------+--------------------+-----------+---------+------------+-------------------+-----------+----------------+---------+---+-----+--------------+----------------+-----------------+----+-----------------+-----------+------------+------------+------------+---------------+----------+--------------------+\n",
      "|APT_NO|  CREDIT_CARD_NO|   CUST_CITY| CUST_COUNTRY|         CUST_EMAIL|   CUST_PHONE|CUST_STATE|CUST_ZIP|FIRST_NAME|LAST_NAME|        LAST_UPDATED|MIDDLE_NAME|      SSN| STREET_NAME|FULL_STREET_ADDRESS|BRANCH_CODE|  CREDIT_CARD_NO| CUST_SSN|DAY|MONTH|TRANSACTION_ID|TRANSACTION_TYPE|TRANSACTION_VALUE|YEAR|      BRANCH_CITY|BRANCH_CODE| BRANCH_NAME|BRANCH_PHONE|BRANCH_STATE|  BRANCH_STREET|BRANCH_ZIP|        LAST_UPDATED|\n",
      "+------+----------------+------------+-------------+-------------------+-------------+----------+--------+----------+---------+--------------------+-----------+---------+------------+-------------------+-----------+----------------+---------+---+-----+--------------+----------------+-----------------+----+-----------------+-----------+------------+------------+------------+---------------+----------+--------------------+\n",
      "|   774|4210653349028689|Harleysville|United States|ACampos@example.com|(555)123-6163|        PA|   19438|    Amalia|   Campos|2018-04-21T12:49:...|        hal|123459988|Valley Drive|  Valley Drive, 774|        114|4210653349028689|123459988| 14|    2|             1|       Education|             78.9|2018|         PalmCity|        114|Example Bank|  1234172062|          FL| Madison Street|     34990|2018-04-18T16:51:...|\n",
      "|   774|4210653349028689|Harleysville|United States|ACampos@example.com|(555)123-6163|        PA|   19438|    Amalia|   Campos|2018-04-21T12:49:...|        hal|123459988|Valley Drive|  Valley Drive, 774|         35|4210653349028689|123459988| 20|    3|             2|   Entertainment|            14.24|2018|       Loganville|         35|Example Bank|  1234316769|          GA|    Durham Road|     30052|2018-04-18T16:51:...|\n",
      "|   774|4210653349028689|Harleysville|United States|ACampos@example.com|(555)123-6163|        PA|   19438|    Amalia|   Campos|2018-04-21T12:49:...|        hal|123459988|Valley Drive|  Valley Drive, 774|        160|4210653349028689|123459988|  8|    7|             3|         Grocery|             56.7|2018|       GardenCity|        160|Example Bank|  1234696702|          NY|Beechwood Drive|     11530|2018-04-18T16:51:...|\n",
      "|   774|4210653349028689|Harleysville|United States|ACampos@example.com|(555)123-6163|        PA|   19438|    Amalia|   Campos|2018-04-21T12:49:...|        hal|123459988|Valley Drive|  Valley Drive, 774|        114|4210653349028689|123459988| 19|    4|             4|   Entertainment|            59.73|2018|         PalmCity|        114|Example Bank|  1234172062|          FL| Madison Street|     34990|2018-04-18T16:51:...|\n",
      "|   774|4210653349028689|Harleysville|United States|ACampos@example.com|(555)123-6163|        PA|   19438|    Amalia|   Campos|2018-04-21T12:49:...|        hal|123459988|Valley Drive|  Valley Drive, 774|         93|4210653349028689|123459988| 10|   10|             5|             Gas|             3.59|2018|     Poughkeepsie|         93|Example Bank|  1234885339|          NY|Harrison Street|     12601|2018-04-18T16:51:...|\n",
      "|   774|4210653349028689|Harleysville|United States|ACampos@example.com|(555)123-6163|        PA|   19438|    Amalia|   Campos|2018-04-21T12:49:...|        hal|123459988|Valley Drive|  Valley Drive, 774|        164|4210653349028689|123459988| 28|    5|             6|       Education|             6.89|2018|           Yakima|        164|Example Bank|  1234540280|          WA|       Route 30|     98908|2018-04-18T16:51:...|\n",
      "|   774|4210653349028689|Harleysville|United States|ACampos@example.com|(555)123-6163|        PA|   19438|    Amalia|   Campos|2018-04-21T12:49:...|        hal|123459988|Valley Drive|  Valley Drive, 774|        119|4210653349028689|123459988| 19|    5|             7|   Entertainment|            43.39|2018|          Ashland|        119|Example Bank|  1234121204|          OH|  Fulton Street|     44805|2018-04-18T16:51:...|\n",
      "|   774|4210653349028689|Harleysville|United States|ACampos@example.com|(555)123-6163|        PA|   19438|    Amalia|   Campos|2018-04-21T12:49:...|        hal|123459988|Valley Drive|  Valley Drive, 774|         23|4210653349028689|123459988|  8|    8|             8|             Gas|            95.39|2018|           Duarte|         23|Example Bank|  1234460645|          CA|Highland Avenue|     91010|2018-04-18T16:51:...|\n",
      "|   774|4210653349028689|Harleysville|United States|ACampos@example.com|(555)123-6163|        PA|   19438|    Amalia|   Campos|2018-04-21T12:49:...|        hal|123459988|Valley Drive|  Valley Drive, 774|        166|4210653349028689|123459988| 18|    3|             9|   Entertainment|            93.26|2018|          Conyers|        166|Example Bank|  1234935053|          GA|       Route 41|     30012|2018-04-18T16:51:...|\n",
      "|   774|4210653349028689|Harleysville|United States|ACampos@example.com|(555)123-6163|        PA|   19438|    Amalia|   Campos|2018-04-21T12:49:...|        hal|123459988|Valley Drive|  Valley Drive, 774|         83|4210653349028689|123459988|  3|    9|            10|           Bills|           100.38|2018|       Brookfield|         83|Example Bank|  1234242554|          WI|Creekside Drive|     53045|2018-04-18T16:51:...|\n",
      "|   774|4210653349028689|Harleysville|United States|ACampos@example.com|(555)123-6163|        PA|   19438|    Amalia|   Campos|2018-04-21T12:49:...|        hal|123459988|Valley Drive|  Valley Drive, 774|         52|4210653349028689|123459988| 21|    8|            11|             Gas|            98.75|2018|           ElPaso|         52|Example Bank|  1234245465|          TX|  Fulton Street|     79930|2018-04-18T16:51:...|\n",
      "|   774|4210653349028689|Harleysville|United States|ACampos@example.com|(555)123-6163|        PA|   19438|    Amalia|   Campos|2018-04-21T12:49:...|        hal|123459988|Valley Drive|  Valley Drive, 774|         17|4210653349028689|123459988| 24|   12|            12|             Gas|            42.71|2018|          Paducah|         17|Example Bank|  1234546360|          KY|Railroad Street|     42001|2018-04-18T16:51:...|\n",
      "|   774|4210653349028689|Harleysville|United States|ACampos@example.com|(555)123-6163|        PA|   19438|    Amalia|   Campos|2018-04-21T12:49:...|        hal|123459988|Valley Drive|  Valley Drive, 774|         80|4210653349028689|123459988|  3|    4|            13|         Grocery|            40.24|2018|       Enterprise|         80|Example Bank|  1234228258|          AL|   Court Street|     36330|2018-04-18T16:51:...|\n",
      "|   774|4210653349028689|Harleysville|United States|ACampos@example.com|(555)123-6163|        PA|   19438|    Amalia|   Campos|2018-04-21T12:49:...|        hal|123459988|Valley Drive|  Valley Drive, 774|         50|4210653349028689|123459988| 15|    4|            14|           Bills|            17.81|2018|          Granger|         50|Example Bank|  1234115442|          IN|  Fairway Drive|     46530|2018-04-18T16:51:...|\n",
      "|   774|4210653349028689|Harleysville|United States|ACampos@example.com|(555)123-6163|        PA|   19438|    Amalia|   Campos|2018-04-21T12:49:...|        hal|123459988|Valley Drive|  Valley Drive, 774|        123|4210653349028689|123459988| 17|    5|            15|           Bills|             29.0|2018|   DeerfieldBeach|        123|Example Bank|  1234365113|          FL|  Willow Avenue|     33442|2018-04-18T16:51:...|\n",
      "|   774|4210653349028689|Harleysville|United States|ACampos@example.com|(555)123-6163|        PA|   19438|    Amalia|   Campos|2018-04-21T12:49:...|        hal|123459988|Valley Drive|  Valley Drive, 774|          9|4210653349028689|123459988|  6|    7|            16|            Test|            70.63|2018|     Wethersfield|          9|Example Bank|  1234675219|          CT|Jefferson Court|      6109|2018-04-18T16:51:...|\n",
      "|   774|4210653349028689|Harleysville|United States|ACampos@example.com|(555)123-6163|        PA|   19438|    Amalia|   Campos|2018-04-21T12:49:...|        hal|123459988|Valley Drive|  Valley Drive, 774|          3|4210653349028689|123459988| 28|    9|            17|            Test|            27.04|2018|SouthRichmondHill|          3|Example Bank|  1234985926|          NY|  Warren Street|     11419|2018-04-18T16:51:...|\n",
      "|   774|4210653349028689|Harleysville|United States|ACampos@example.com|(555)123-6163|        PA|   19438|    Amalia|   Campos|2018-04-21T12:49:...|        hal|123459988|Valley Drive|  Valley Drive, 774|        135|4210653349028689|123459988|  4|    7|            18|   Entertainment|            88.75|2018|           Nanuet|        135|Example Bank|  1234831678|          NY|Canterbury Road|     10954|2018-04-18T16:51:...|\n",
      "|   774|4210653349028689|Harleysville|United States|ACampos@example.com|(555)123-6163|        PA|   19438|    Amalia|   Campos|2018-04-21T12:49:...|        hal|123459988|Valley Drive|  Valley Drive, 774|        103|4210653349028689|123459988| 24|    4|            19|            Test|            77.02|2018|        SiouxCity|        103|Example Bank|  1234483865|          IA|   Grant Street|     51106|2018-04-18T16:51:...|\n",
      "|   774|4210653349028689|Harleysville|United States|ACampos@example.com|(555)123-6163|        PA|   19438|    Amalia|   Campos|2018-04-21T12:49:...|        hal|123459988|Valley Drive|  Valley Drive, 774|         78|4210653349028689|123459988|  8|   10|            20|           Bills|            34.34|2018|        Mundelein|         78|Example Bank|  1234164452|          IL|  Heather Court|     60060|2018-04-18T16:51:...|\n",
      "+------+----------------+------------+-------------+-------------------+-------------+----------+--------+----------+---------+--------------------+-----------+---------+------------+-------------------+-----------+----------------+---------+---+-----+--------------+----------------+-----------------+----+-----------------+-----------+------------+------------+------------+---------------+----------+--------------------+\n",
      "only showing top 20 rows\n",
      "\n"
     ]
    }
   ],
   "source": [
    "result.show()"
   ]
  },
  {
   "cell_type": "code",
   "execution_count": null,
   "metadata": {},
   "outputs": [],
   "source": [
    "result_left = spark.sql(\"\"\"\n",
    "    SELECT *\n",
    "    FROM customer c\n",
    "    LEFT JOIN creditcard cc ON c.SSN = cc.CUST_SSN\n",
    "    LEFT JOIN branch b ON cc.BRANCH_CODE = b.BRANCH_CODE\n",
    "    WHERE cc.CUST_SSN IS NULL OR b.BRANCH_CODE IS NULL\n",
    "\"\"\")"
   ]
  },
  {
   "cell_type": "code",
   "execution_count": null,
   "metadata": {},
   "outputs": [],
   "source": [
    "result_right = customer_df.join(creditcard_df, customer_df.SSN == creditcard_df.CUST_SSN, \"right\") \\\n",
    "                    .join(branch_df, creditcard_df.BRANCH_CODE == branch_df.BRANCH_CODE, \"right\")\n",
    "\n",
    "result_right.show()"
   ]
  },
  {
   "cell_type": "code",
   "execution_count": null,
   "metadata": {},
   "outputs": [],
   "source": [
    "result_outer = customer_df.join(creditcard_df, customer_df.SSN == creditcard_df.CUST_SSN, \"outer\") \\\n",
    "                    .join(branch_df, creditcard_df.BRANCH_CODE == branch_df.BRANCH_CODE, \"outer\")\n",
    "\n",
    "result_outer.show()"
   ]
  },
  {
   "cell_type": "code",
   "execution_count": null,
   "metadata": {},
   "outputs": [],
   "source": [
    "# sparksql = SparkSession.builder \\\n",
    "#                                 .appName(\"CreditCardSystem\") \\\n",
    "#                                 .config(\"spark.jars\", )\n",
    "#                                 .getOrCreate()\n",
    "\n",
    "# sparksql = SparkSession.builder \\\n",
    "#            .appName('SparkByExamples.com') \\\n",
    "#            .config(\"spark.jars\", \"mysql-connector-java-8.0.13.jar\")\n",
    "#            .getOrCreate()"
   ]
  },
  {
   "cell_type": "code",
   "execution_count": 20,
   "metadata": {},
   "outputs": [],
   "source": [
    "# jdbc_url = \"jdbc:mysql://localhost:3306/creditcard_capstone\"\n",
    "# table_prefix = \"CDW_SAPP_\"\n",
    "# db_properties = {\n",
    "#     \"user\": \"root\",\n",
    "#     \"password\": \"password\",\n",
    "#     \"driver\": \"com.mysql.cj.jdbc.Driver\"\n",
    "# }\n",
    "\n",
    "# df=spark.read.format(\"jdbc\").options(driver=\"com.mysql.cj.jdbc.Driver\",\\\n",
    "#                                      user=\"root\",\\\n",
    "#                                      password=\"password\",\\\n",
    "#                                      url=\"jdbc:mysql://localhost:3306/creditcard_capstone\",\\\n",
    "#                                      dbtable=\"\").load()\n",
    "# df.show()\n",
    "\n",
    "import mysql.connector\n",
    "\n",
    "conn = mysql.connector.connect(user='root', \n",
    "                               database='creditcard_capstone',\n",
    "                               password='password',\n",
    "                               host=\"localhost\",\n",
    "                               port=3306)\n",
    "cursor = conn.cursor()"
   ]
  },
  {
   "cell_type": "code",
   "execution_count": 21,
   "metadata": {},
   "outputs": [],
   "source": [
    "cursor.execute(\"drop table if exists creditcard;\")\n",
    "cursor.execute(\"drop table if exists customer;\")\n",
    "cursor.execute(\"drop table if exists branch;\")"
   ]
  },
  {
   "cell_type": "code",
   "execution_count": 22,
   "metadata": {},
   "outputs": [],
   "source": [
    "# Write to MySQL Table\n",
    "branch_df.write \\\n",
    "  .format(\"jdbc\") \\\n",
    "  .option(\"driver\",\"com.mysql.cj.jdbc.Driver\") \\\n",
    "  .option(\"url\", \"jdbc:mysql://localhost:3306/creditcard_capstone\") \\\n",
    "  .option(\"dbtable\", \"branch\") \\\n",
    "  .option(\"user\", \"root\") \\\n",
    "  .option(\"password\", \"password\") \\\n",
    "  .save()\n",
    "\n"
   ]
  },
  {
   "cell_type": "code",
   "execution_count": 23,
   "metadata": {},
   "outputs": [],
   "source": [
    "customer_df.write \\\n",
    "  .format(\"jdbc\") \\\n",
    "  .option(\"driver\",\"com.mysql.cj.jdbc.Driver\") \\\n",
    "  .option(\"url\", \"jdbc:mysql://localhost:3306/creditcard_capstone\") \\\n",
    "  .option(\"dbtable\", \"customer\") \\\n",
    "  .option(\"user\", \"root\") \\\n",
    "  .option(\"password\", \"password\") \\\n",
    "  .save()"
   ]
  },
  {
   "cell_type": "code",
   "execution_count": 24,
   "metadata": {},
   "outputs": [],
   "source": [
    "creditcard_df.write \\\n",
    "  .format(\"jdbc\") \\\n",
    "  .option(\"driver\",\"com.mysql.cj.jdbc.Driver\") \\\n",
    "  .option(\"url\", \"jdbc:mysql://localhost:3306/creditcard_capstone\") \\\n",
    "  .option(\"dbtable\", \"creditcard\") \\\n",
    "  .option(\"user\", \"root\") \\\n",
    "  .option(\"password\", \"password\") \\\n",
    "  .save()"
   ]
  },
  {
   "cell_type": "code",
   "execution_count": 97,
   "metadata": {},
   "outputs": [],
   "source": [
    "conn.close()"
   ]
  },
  {
   "cell_type": "code",
   "execution_count": null,
   "metadata": {},
   "outputs": [],
   "source": [
    "# import pandas as pd\n",
    "\n",
    "# branch_df.toPandas().to_sql(\"branch\", conn, index=False)\n",
    "\n",
    "# branch_df.createOrReplaceTempView(\"branch\")\n",
    "# creditcard_df.createOrReplaceTempView(\"creditcard\")\n",
    "# customer_df.createOrReplaceTempView(\"customer\")"
   ]
  },
  {
   "cell_type": "code",
   "execution_count": null,
   "metadata": {},
   "outputs": [],
   "source": [
    "# query = \"create table test1(field1 int, field2 varchar(10));\"\n",
    "# cursor.execute(query)"
   ]
  },
  {
   "cell_type": "code",
   "execution_count": null,
   "metadata": {},
   "outputs": [],
   "source": [
    "# cursor.execute(\"drop table test1\")"
   ]
  },
  {
   "cell_type": "code",
   "execution_count": null,
   "metadata": {},
   "outputs": [],
   "source": [
    "# query = \"create table ;\"\n",
    "# cursor.execute(query)"
   ]
  },
  {
   "cell_type": "code",
   "execution_count": null,
   "metadata": {},
   "outputs": [],
   "source": [
    "# branch_df.write.jdbc(jdbc_url, table=f\"{table_prefix}BRANCH\", mode=\"overwrite\", properties=db_properties)\n",
    "# creditcard_df.write.jdbc(jdbc_url, table=f\"{table_prefix}CREDIT_CARD\", mode=\"overwrite\", properties=db_properties)\n",
    "# customer_df.write.jdbc(jdbc_url, table=f\"{table_prefix}CUSTOMER\", mode=\"overwrite\", properties=db_properties)\n"
   ]
  },
  {
   "attachments": {},
   "cell_type": "markdown",
   "metadata": {},
   "source": [
    "********************************\n",
    "*2.1 Transaction Details Module*\n",
    "********************************"
   ]
  },
  {
   "cell_type": "code",
   "execution_count": 1,
   "metadata": {},
   "outputs": [],
   "source": [
    "import mysql.connector\n",
    "\n",
    "def zip_transactions(zip_code, month, year):\n",
    "\n",
    "    conn = mysql.connector.connect(user='root', \n",
    "                                   database='creditcard_capstone',\n",
    "                                   password='password',\n",
    "                                   host=\"localhost\",\n",
    "                                   port=3306)\n",
    "\n",
    "    # Create a cursor to execute SQL queries\n",
    "    cursor = conn.cursor()\n",
    "\n",
    "    # SQL query to retrieve the transactions made by customers in a given zip code for a given month and year\n",
    "    query = \"\"\"\n",
    "    SELECT *\n",
    "    FROM customer c\n",
    "    LEFT JOIN creditcard cc ON c.SSN = cc.CUST_SSN\n",
    "    LEFT JOIN branch b ON cc.BRANCH_CODE = b.BRANCH_CODE\n",
    "    WHERE c.CUST_ZIP = %s AND cc.MONTH = %s AND cc.YEAR = %s\n",
    "    ORDER BY cc.DAY DESC\n",
    "    \"\"\"\n",
    "\n",
    "    # Execute the query with the provided parameters\n",
    "    cursor.execute(query, (zip_code, month, year))\n",
    "\n",
    "    # Fetch all the results\n",
    "    results = cursor.fetchall()\n",
    "\n",
    "    # Display the transactions\n",
    "    print(\"Transactions by Zip Code and Dates:\")\n",
    "    for row in results:\n",
    "        print(row)\n",
    "\n",
    "    # Close the cursor and the database connection\n",
    "    cursor.close()\n",
    "    conn.close()"
   ]
  },
  {
   "cell_type": "code",
   "execution_count": 2,
   "metadata": {},
   "outputs": [],
   "source": [
    "def type_transactions(transaction_type):\n",
    "    # Establish a connection to the MySQL database\n",
    "\n",
    "    conn = mysql.connector.connect(user='root', \n",
    "                                   database='creditcard_capstone',\n",
    "                                   password='password',\n",
    "                                   host=\"localhost\",\n",
    "                                   port=3306)\n",
    "\n",
    "    # Create a cursor to execute SQL queries\n",
    "    cursor = conn.cursor()\n",
    "\n",
    "    # SQL query to retrieve the number and total values of transactions for a given type\n",
    "    query = \"\"\"\n",
    "    SELECT COUNT(*) AS transaction_count, SUM(Transaction_Value) AS total_value\n",
    "    FROM creditcard\n",
    "    WHERE TRANSACTION_TYPE = %s\n",
    "    \"\"\"\n",
    "\n",
    "    # Execute the query with the provided parameter\n",
    "    cursor.execute(query, (transaction_type,))\n",
    "\n",
    "    # Fetch the result\n",
    "    result = cursor.fetchone()\n",
    "\n",
    "    # Display the transaction details\n",
    "    print(\"Transaction Type:\", transaction_type)\n",
    "    print(\"Transaction Count:\", result[0])\n",
    "    print(\"Total Value:\", result[1])\n",
    "\n",
    "    # Close the cursor and the database connection\n",
    "    cursor.close()\n",
    "    conn.close()"
   ]
  },
  {
   "cell_type": "code",
   "execution_count": 3,
   "metadata": {},
   "outputs": [],
   "source": [
    "def state_transactions(state):\n",
    "    # Establish a connection to the MySQL database\n",
    "    conn = mysql.connector.connect(user='root',\n",
    "                                   database='creditcard_capstone',\n",
    "                                   password='password',\n",
    "                                   host=\"localhost\",\n",
    "                                   port=3306)\n",
    "\n",
    "    # Create a cursor to execute SQL queries\n",
    "    cursor = conn.cursor()\n",
    "\n",
    "    # SQL query to retrieve the total number and total values of transactions for branches in a given state\n",
    "    query = \"\"\"\n",
    "    SELECT COUNT(*) AS transaction_count, SUM(Transaction_Value) AS total_value\n",
    "    FROM creditcard\n",
    "    JOIN branch ON creditcard.BRANCH_CODE = branch.BRANCH_CODE\n",
    "    WHERE branch.BRANCH_STATE = %s\n",
    "    \"\"\"\n",
    "\n",
    "    # Execute the query with the provided parameter\n",
    "    cursor.execute(query, (state,))\n",
    "\n",
    "    # Fetch the result\n",
    "    result = cursor.fetchone()\n",
    "\n",
    "    # Display the transaction details\n",
    "    print(\"State:\", state)\n",
    "    print(\"Transaction Count:\", result[0])\n",
    "    print(\"Total Value:\", result[1])\n",
    "\n",
    "    # Close the cursor and the database connection\n",
    "    cursor.close()\n",
    "    conn.close()"
   ]
  },
  {
   "cell_type": "code",
   "execution_count": 4,
   "metadata": {},
   "outputs": [
    {
     "name": "stdout",
     "output_type": "stream",
     "text": [
      "Transaction Details Module\n",
      "1) Display transactions by zip code for a given month and year\n",
      "2) Display number and total values of transactions for a given type\n",
      "3) Display total number and total values of transactions for branches in a given state\n",
      "4) Exit\n",
      "Transactions by Zip Code and Dates:\n",
      "('109', '4210653396189363', 'Natchez', 'United States', 'BWare@example.com', '(555)124-2316', 'MS', '39120', 'Blair', 'Ware', '2018-04-21T12:49:02.000-04:00', 'antone', 123457139, 'Linden Street', 'Linden Street, 109', 7, '4210653396189363', 123457139, 27, 2, 15254, 'Healthcare', 98.94, 2018, 'Paterson', 7, 'Example Bank', '1234144890', 'NJ', 'Jefferson Street', 7501, '2018-04-18T16:51:47.000-04:00')\n",
      "('109', '4210653396189363', 'Natchez', 'United States', 'BWare@example.com', '(555)124-2316', 'MS', '39120', 'Blair', 'Ware', '2018-04-21T12:49:02.000-04:00', 'antone', 123457139, 'Linden Street', 'Linden Street, 109', 16, '4210653396189363', 123457139, 27, 2, 15226, 'Grocery', 96.65, 2018, 'Plainview', 16, 'Example Bank', '1234857525', 'NY', 'Monroe Drive', 11803, '2018-04-18T16:51:47.000-04:00')\n",
      "('109', '4210653396189363', 'Natchez', 'United States', 'BWare@example.com', '(555)124-2316', 'MS', '39120', 'Blair', 'Ware', '2018-04-21T12:49:02.000-04:00', 'antone', 123457139, 'Linden Street', 'Linden Street, 109', 131, '4210653396189363', 123457139, 27, 2, 15223, 'Gas', 24.3, 2018, 'Valrico', 131, 'Example Bank', '1234880523', 'FL', 'Orchard Lane', 33594, '2018-04-18T16:51:47.000-04:00')\n",
      "('718', '4210653362697310', 'Natchez', 'United States', 'MHagan@example.com', '(555)124-3335', 'MS', '39120', 'Melissa', 'Hagan', '2018-04-21T12:49:02.000-04:00', 'clifton', 123459262, 'Parker Street', 'Parker Street, 718', 104, '4210653362697310', 123459262, 27, 2, 3543, 'Healthcare', 23.92, 2018, 'Owosso', 104, 'Example Bank', '1234909907', 'MI', 'Cambridge Court', 48867, '2018-04-18T16:51:47.000-04:00')\n",
      "('384', '4210653359877473', 'Natchez', 'United States', 'ICramer@example.com', '(555)123-8679', 'MS', '39120', 'Isabel', 'Cramer', '2018-04-21T12:49:02.000-04:00', 'james', 123457519, 'Sheffield Drive', 'Sheffield Drive, 384', 123, '4210653359877473', 123457519, 27, 2, 12623, 'Entertainment', 10.74, 2018, 'DeerfieldBeach', 123, 'Example Bank', '1234365113', 'FL', 'Willow Avenue', 33442, '2018-04-18T16:51:47.000-04:00')\n",
      "('388', '4210653323781193', 'Natchez', 'United States', 'FCarson@example.com', '(555)124-0939', 'MS', '39120', 'Fermin', 'Carson', '2018-04-21T12:49:02.000-04:00', 'kip', 123455582, '6th Street North', '6th Street North, 388', 78, '4210653323781193', 123455582, 26, 2, 22981, 'Gas', 18.84, 2018, 'Mundelein', 78, 'Example Bank', '1234164452', 'IL', 'Heather Court', 60060, '2018-04-18T16:51:47.000-04:00')\n",
      "('801', '4210653387378802', 'Natchez', 'United States', 'JMacias@example.com', '(555)124-0476', 'MS', '39120', 'Judson', 'Macias', '2018-04-21T12:49:02.000-04:00', 'lauri', 123457047, 'Summit Avenue', 'Summit Avenue, 801', 58, '4210653387378802', 123457047, 26, 2, 15830, 'Healthcare', 1.36, 2018, 'Rossville', 58, 'Example Bank', '1234335491', 'GA', 'Hickory Street', 30741, '2018-04-18T16:51:47.000-04:00')\n",
      "('109', '4210653396189363', 'Natchez', 'United States', 'BWare@example.com', '(555)124-2316', 'MS', '39120', 'Blair', 'Ware', '2018-04-21T12:49:02.000-04:00', 'antone', 123457139, 'Linden Street', 'Linden Street, 109', 44, '4210653396189363', 123457139, 25, 2, 15257, 'Grocery', 45.43, 2018, 'Greenville', 44, 'Example Bank', '1234736019', 'NC', '12th Street East', 27834, '2018-04-18T16:51:47.000-04:00')\n",
      "('388', '4210653323781193', 'Natchez', 'United States', 'FCarson@example.com', '(555)124-0939', 'MS', '39120', 'Fermin', 'Carson', '2018-04-21T12:49:02.000-04:00', 'kip', 123455582, '6th Street North', '6th Street North, 388', 8, '4210653323781193', 123455582, 25, 2, 23023, 'Healthcare', 53.98, 2018, 'Pittsford', 8, 'Example Bank', '1234678272', 'NY', 'B Street', 14534, '2018-04-18T16:51:47.000-04:00')\n",
      "('384', '4210653359877473', 'Natchez', 'United States', 'ICramer@example.com', '(555)123-8679', 'MS', '39120', 'Isabel', 'Cramer', '2018-04-21T12:49:02.000-04:00', 'james', 123457519, 'Sheffield Drive', 'Sheffield Drive, 384', 51, '4210653359877473', 123457519, 25, 2, 12659, 'Grocery', 81.1, 2018, 'Lombard', 51, 'Example Bank', '1234132382', 'IL', 'Route 20', 60148, '2018-04-18T16:51:47.000-04:00')\n",
      "('384', '4210653359877473', 'Natchez', 'United States', 'ICramer@example.com', '(555)123-8679', 'MS', '39120', 'Isabel', 'Cramer', '2018-04-21T12:49:02.000-04:00', 'james', 123457519, 'Sheffield Drive', 'Sheffield Drive, 384', 31, '4210653359877473', 123457519, 24, 2, 12619, 'Education', 23.1, 2018, 'Carrollton', 31, 'Example Bank', '1234148639', 'GA', 'Queen Street', 30117, '2018-04-18T16:51:47.000-04:00')\n",
      "('718', '4210653362697310', 'Natchez', 'United States', 'MHagan@example.com', '(555)124-3335', 'MS', '39120', 'Melissa', 'Hagan', '2018-04-21T12:49:02.000-04:00', 'clifton', 123459262, 'Parker Street', 'Parker Street, 718', 9, '4210653362697310', 123459262, 23, 2, 3542, 'Entertainment', 12.71, 2018, 'Wethersfield', 9, 'Example Bank', '1234675219', 'CT', 'Jefferson Court', 6109, '2018-04-18T16:51:47.000-04:00')\n",
      "('109', '4210653396189363', 'Natchez', 'United States', 'BWare@example.com', '(555)124-2316', 'MS', '39120', 'Blair', 'Ware', '2018-04-21T12:49:02.000-04:00', 'antone', 123457139, 'Linden Street', 'Linden Street, 109', 168, '4210653396189363', 123457139, 22, 2, 15261, 'Entertainment', 38.06, 2018, 'YubaCity', 168, 'Example Bank', '1234317447', 'CA', 'Williams Street', 95993, '2018-04-18T16:51:47.000-04:00')\n",
      "('109', '4210653396189363', 'Natchez', 'United States', 'BWare@example.com', '(555)124-2316', 'MS', '39120', 'Blair', 'Ware', '2018-04-21T12:49:02.000-04:00', 'antone', 123457139, 'Linden Street', 'Linden Street, 109', 70, '4210653396189363', 123457139, 21, 2, 15199, 'Test', 96.26, 2018, 'Medford', 70, 'Example Bank', '1234982393', 'MA', 'Briarwood Court', 2155, '2018-04-18T16:51:47.000-04:00')\n",
      "('388', '4210653323781193', 'Natchez', 'United States', 'FCarson@example.com', '(555)124-0939', 'MS', '39120', 'Fermin', 'Carson', '2018-04-21T12:49:02.000-04:00', 'kip', 123455582, '6th Street North', '6th Street North, 388', 26, '4210653323781193', 123455582, 19, 2, 23037, 'Grocery', 18.22, 2018, 'LakeJackson', 26, 'Example Bank', '1234356462', 'TX', 'Chestnut Avenue', 77566, '2018-04-18T16:51:47.000-04:00')\n",
      "('21', '4210653374740577', 'Natchez', 'United States', 'KTodd@example.com', '(555)123-8952', 'MS', '39120', 'Kraig', 'Todd', '2018-04-21T12:49:02.000-04:00', 'dolores', 123459564, 'Durham Court', 'Durham Court, 21', 119, '4210653374740577', 123459564, 19, 2, 2210, 'Bills', 87.25, 2018, 'Ashland', 119, 'Example Bank', '1234121204', 'OH', 'Fulton Street', 44805, '2018-04-18T16:51:47.000-04:00')\n",
      "('21', '4210653374740577', 'Natchez', 'United States', 'KTodd@example.com', '(555)123-8952', 'MS', '39120', 'Kraig', 'Todd', '2018-04-21T12:49:02.000-04:00', 'dolores', 123459564, 'Durham Court', 'Durham Court, 21', 164, '4210653374740577', 123459564, 18, 2, 2165, 'Entertainment', 38.15, 2018, 'Yakima', 164, 'Example Bank', '1234540280', 'WA', 'Route 30', 98908, '2018-04-18T16:51:47.000-04:00')\n",
      "('384', '4210653359877473', 'Natchez', 'United States', 'ICramer@example.com', '(555)123-8679', 'MS', '39120', 'Isabel', 'Cramer', '2018-04-21T12:49:02.000-04:00', 'james', 123457519, 'Sheffield Drive', 'Sheffield Drive, 384', 95, '4210653359877473', 123457519, 17, 2, 12665, 'Grocery', 6.72, 2018, 'Apopka', 95, 'Example Bank', '1234667289', 'FL', 'Madison Street', 32703, '2018-04-18T16:51:47.000-04:00')\n",
      "('731', '4210653390959197', 'Natchez', 'United States', 'ODickinson@example.com', '(555)123-6684', 'MS', '39120', 'Omer', 'Dickinson', '2018-04-21T12:49:02.000-04:00', 'lauri', 123457054, 'Cross Street', 'Cross Street, 731', 70, '4210653390959197', 123457054, 17, 2, 15817, 'Healthcare', 93.6, 2018, 'Medford', 70, 'Example Bank', '1234982393', 'MA', 'Briarwood Court', 2155, '2018-04-18T16:51:47.000-04:00')\n",
      "('388', '4210653323781193', 'Natchez', 'United States', 'FCarson@example.com', '(555)124-0939', 'MS', '39120', 'Fermin', 'Carson', '2018-04-21T12:49:02.000-04:00', 'kip', 123455582, '6th Street North', '6th Street North, 388', 166, '4210653323781193', 123455582, 15, 2, 22993, 'Bills', 46.14, 2018, 'Conyers', 166, 'Example Bank', '1234935053', 'GA', 'Route 41', 30012, '2018-04-18T16:51:47.000-04:00')\n",
      "('388', '4210653323781193', 'Natchez', 'United States', 'FCarson@example.com', '(555)124-0939', 'MS', '39120', 'Fermin', 'Carson', '2018-04-21T12:49:02.000-04:00', 'kip', 123455582, '6th Street North', '6th Street North, 388', 104, '4210653323781193', 123455582, 14, 2, 23036, 'Bills', 74.63, 2018, 'Owosso', 104, 'Example Bank', '1234909907', 'MI', 'Cambridge Court', 48867, '2018-04-18T16:51:47.000-04:00')\n",
      "('384', '4210653359877473', 'Natchez', 'United States', 'ICramer@example.com', '(555)123-8679', 'MS', '39120', 'Isabel', 'Cramer', '2018-04-21T12:49:02.000-04:00', 'james', 123457519, 'Sheffield Drive', 'Sheffield Drive, 384', 59, '4210653359877473', 123457519, 14, 2, 12621, 'Bills', 53.87, 2018, 'Waxhaw', 59, 'Example Bank', '1234841134', 'NC', 'Country Lane', 28173, '2018-04-18T16:51:47.000-04:00')\n",
      "('109', '4210653396189363', 'Natchez', 'United States', 'BWare@example.com', '(555)124-2316', 'MS', '39120', 'Blair', 'Ware', '2018-04-21T12:49:02.000-04:00', 'antone', 123457139, 'Linden Street', 'Linden Street, 109', 131, '4210653396189363', 123457139, 12, 2, 15213, 'Test', 90.95, 2018, 'Valrico', 131, 'Example Bank', '1234880523', 'FL', 'Orchard Lane', 33594, '2018-04-18T16:51:47.000-04:00')\n",
      "('388', '4210653323781193', 'Natchez', 'United States', 'FCarson@example.com', '(555)124-0939', 'MS', '39120', 'Fermin', 'Carson', '2018-04-21T12:49:02.000-04:00', 'kip', 123455582, '6th Street North', '6th Street North, 388', 79, '4210653323781193', 123455582, 11, 2, 23004, 'Education', 82.18, 2018, 'Bettendorf', 79, 'Example Bank', '1234394450', 'IA', 'George Street', 52722, '2018-04-18T16:51:47.000-04:00')\n",
      "('384', '4210653359877473', 'Natchez', 'United States', 'ICramer@example.com', '(555)123-8679', 'MS', '39120', 'Isabel', 'Cramer', '2018-04-21T12:49:02.000-04:00', 'james', 123457519, 'Sheffield Drive', 'Sheffield Drive, 384', 67, '4210653359877473', 123457519, 11, 2, 12641, 'Education', 90.37, 2018, 'Baltimore', 67, 'Example Bank', '1234432768', 'MD', 'Jackson Avenue', 21206, '2018-04-18T16:51:47.000-04:00')\n",
      "('109', '4210653396189363', 'Natchez', 'United States', 'BWare@example.com', '(555)124-2316', 'MS', '39120', 'Blair', 'Ware', '2018-04-21T12:49:02.000-04:00', 'antone', 123457139, 'Linden Street', 'Linden Street, 109', 117, '4210653396189363', 123457139, 10, 2, 15177, 'Test', 100.5, 2018, 'Canonsburg', 117, 'Example Bank', '1234197777', 'PA', 'Route 64', 15317, '2018-04-18T16:51:47.000-04:00')\n",
      "('21', '4210653374740577', 'Natchez', 'United States', 'KTodd@example.com', '(555)123-8952', 'MS', '39120', 'Kraig', 'Todd', '2018-04-21T12:49:02.000-04:00', 'dolores', 123459564, 'Durham Court', 'Durham Court, 21', 59, '4210653374740577', 123459564, 10, 2, 2204, 'Entertainment', 16.44, 2018, 'Waxhaw', 59, 'Example Bank', '1234841134', 'NC', 'Country Lane', 28173, '2018-04-18T16:51:47.000-04:00')\n",
      "('109', '4210653396189363', 'Natchez', 'United States', 'BWare@example.com', '(555)124-2316', 'MS', '39120', 'Blair', 'Ware', '2018-04-21T12:49:02.000-04:00', 'antone', 123457139, 'Linden Street', 'Linden Street, 109', 160, '4210653396189363', 123457139, 9, 2, 15267, 'Bills', 22.17, 2018, 'GardenCity', 160, 'Example Bank', '1234696702', 'NY', 'Beechwood Drive', 11530, '2018-04-18T16:51:47.000-04:00')\n",
      "('111', '565', 'Natchez', 'United States', 'AHooper@example.com', '(555)123-7818', 'MS', '39120', 'Alec', 'Hooper', '2023-06-20 11:54', 'wm', 123456100, 'Main Street North', 'Main Street North, 656', 93, '4210653310061055', 123456100, 8, 2, 20550, 'Healthcare', 46.21, 2018, 'Poughkeepsie', 93, 'Example Bank', '1234885339', 'NY', 'Harrison Street', 12601, '2018-04-18T16:51:47.000-04:00')\n",
      "('21', '4210653374740577', 'Natchez', 'United States', 'KTodd@example.com', '(555)123-8952', 'MS', '39120', 'Kraig', 'Todd', '2018-04-21T12:49:02.000-04:00', 'dolores', 123459564, 'Durham Court', 'Durham Court, 21', 32, '4210653374740577', 123459564, 7, 2, 2216, 'Education', 17.88, 2018, 'Helena', 32, 'Example Bank', '1234302170', 'MT', 'Aspen Court', 59601, '2018-04-18T16:51:47.000-04:00')\n",
      "('384', '4210653359877473', 'Natchez', 'United States', 'ICramer@example.com', '(555)123-8679', 'MS', '39120', 'Isabel', 'Cramer', '2018-04-21T12:49:02.000-04:00', 'james', 123457519, 'Sheffield Drive', 'Sheffield Drive, 384', 8, '4210653359877473', 123457519, 6, 2, 12643, 'Education', 58.35, 2018, 'Pittsford', 8, 'Example Bank', '1234678272', 'NY', 'B Street', 14534, '2018-04-18T16:51:47.000-04:00')\n",
      "('21', '4210653374740577', 'Natchez', 'United States', 'KTodd@example.com', '(555)123-8952', 'MS', '39120', 'Kraig', 'Todd', '2018-04-21T12:49:02.000-04:00', 'dolores', 123459564, 'Durham Court', 'Durham Court, 21', 180, '4210653374740577', 123459564, 6, 2, 2196, 'Healthcare', 25.24, 2018, 'NewHaven', 180, 'Example Bank', '1234347181', 'CT', 'Meadow Street', 6511, '2018-04-18T16:51:47.000-04:00')\n",
      "('718', '4210653362697310', 'Natchez', 'United States', 'MHagan@example.com', '(555)124-3335', 'MS', '39120', 'Melissa', 'Hagan', '2018-04-21T12:49:02.000-04:00', 'clifton', 123459262, 'Parker Street', 'Parker Street, 718', 35, '4210653362697310', 123459262, 5, 2, 3549, 'Healthcare', 38.4, 2018, 'Loganville', 35, 'Example Bank', '1234316769', 'GA', 'Durham Road', 30052, '2018-04-18T16:51:47.000-04:00')\n",
      "('718', '4210653362697310', 'Natchez', 'United States', 'MHagan@example.com', '(555)124-3335', 'MS', '39120', 'Melissa', 'Hagan', '2018-04-21T12:49:02.000-04:00', 'clifton', 123459262, 'Parker Street', 'Parker Street, 718', 136, '4210653362697310', 123459262, 4, 2, 3548, 'Test', 38.85, 2018, 'Independence', 136, 'Example Bank', '1234601062', 'KY', 'Route 11', 41051, '2018-04-18T16:51:47.000-04:00')\n",
      "('109', '4210653396189363', 'Natchez', 'United States', 'BWare@example.com', '(555)124-2316', 'MS', '39120', 'Blair', 'Ware', '2018-04-21T12:49:02.000-04:00', 'antone', 123457139, 'Linden Street', 'Linden Street, 109', 69, '4210653396189363', 123457139, 3, 2, 15206, 'Education', 28.96, 2018, 'Fenton', 69, 'Example Bank', '1234670647', 'MI', 'Amherst Street', 48430, '2018-04-18T16:51:47.000-04:00')\n",
      "('718', '4210653362697310', 'Natchez', 'United States', 'MHagan@example.com', '(555)124-3335', 'MS', '39120', 'Melissa', 'Hagan', '2018-04-21T12:49:02.000-04:00', 'clifton', 123459262, 'Parker Street', 'Parker Street, 718', 168, '4210653362697310', 123459262, 2, 2, 3530, 'Gas', 40.91, 2018, 'YubaCity', 168, 'Example Bank', '1234317447', 'CA', 'Williams Street', 95993, '2018-04-18T16:51:47.000-04:00')\n",
      "('21', '4210653374740577', 'Natchez', 'United States', 'KTodd@example.com', '(555)123-8952', 'MS', '39120', 'Kraig', 'Todd', '2018-04-21T12:49:02.000-04:00', 'dolores', 123459564, 'Durham Court', 'Durham Court, 21', 103, '4210653374740577', 123459564, 1, 2, 2211, 'Test', 55.19, 2018, 'SiouxCity', 103, 'Example Bank', '1234483865', 'IA', 'Grant Street', 51106, '2018-04-18T16:51:47.000-04:00')\n",
      "('388', '4210653323781193', 'Natchez', 'United States', 'FCarson@example.com', '(555)124-0939', 'MS', '39120', 'Fermin', 'Carson', '2018-04-21T12:49:02.000-04:00', 'kip', 123455582, '6th Street North', '6th Street North, 388', 5, '4210653323781193', 123455582, 1, 2, 22989, 'Gas', 89.75, 2018, 'KingOfPrussia', 5, 'Example Bank', '1234849701', 'PA', '14th Street', 19406, '2018-04-18T16:51:47.000-04:00')\n",
      "Transaction Details Module\n",
      "1) Display transactions by zip code for a given month and year\n",
      "2) Display number and total values of transactions for a given type\n",
      "3) Display total number and total values of transactions for branches in a given state\n",
      "4) Exit\n",
      "Transactions by Zip Code and Dates:\n",
      "('718', '4210653362697310', 'Natchez', 'United States', 'MHagan@example.com', '(555)124-3335', 'MS', '39120', 'Melissa', 'Hagan', '2018-04-21T12:49:02.000-04:00', 'clifton', 123459262, 'Parker Street', 'Parker Street, 718', 104, '4210653362697310', 123459262, 28, 5, 3531, 'Gas', 57.66, 2018, 'Owosso', 104, 'Example Bank', '1234909907', 'MI', 'Cambridge Court', 48867, '2018-04-18T16:51:47.000-04:00')\n",
      "('111', '565', 'Natchez', 'United States', 'AHooper@example.com', '(555)123-7818', 'MS', '39120', 'Alec', 'Hooper', '2023-06-20 11:54', 'wm', 123456100, 'Main Street North', 'Main Street North, 656', 126, '4210653310061055', 123456100, 26, 5, 20562, 'Grocery', 58.88, 2018, 'Bethesda', 126, 'Example Bank', '1234723287', 'MD', 'Route 10', 20814, '2018-04-18T16:51:47.000-04:00')\n",
      "('109', '4210653396189363', 'Natchez', 'United States', 'BWare@example.com', '(555)124-2316', 'MS', '39120', 'Blair', 'Ware', '2018-04-21T12:49:02.000-04:00', 'antone', 123457139, 'Linden Street', 'Linden Street, 109', 99, '4210653396189363', 123457139, 26, 5, 15224, 'Gas', 57.04, 2018, 'Seymour', 99, 'Example Bank', '1234164581', 'IN', 'Bridge Street', 47274, '2018-04-18T16:51:47.000-04:00')\n",
      "('388', '4210653323781193', 'Natchez', 'United States', 'FCarson@example.com', '(555)124-0939', 'MS', '39120', 'Fermin', 'Carson', '2018-04-21T12:49:02.000-04:00', 'kip', 123455582, '6th Street North', '6th Street North, 388', 105, '4210653323781193', 123455582, 23, 5, 23025, 'Grocery', 27.63, 2018, 'LongBranch', 105, 'Example Bank', '1234723165', 'NJ', 'Virginia Avenue', 7740, '2018-04-18T16:51:47.000-04:00')\n",
      "('109', '4210653396189363', 'Natchez', 'United States', 'BWare@example.com', '(555)124-2316', 'MS', '39120', 'Blair', 'Ware', '2018-04-21T12:49:02.000-04:00', 'antone', 123457139, 'Linden Street', 'Linden Street, 109', 4, '4210653396189363', 123457139, 23, 5, 15209, 'Healthcare', 22.42, 2018, 'Middleburg', 4, 'Example Bank', '1234663064', 'FL', 'Cleveland Street', 32068, '2018-04-18T16:51:47.000-04:00')\n",
      "('111', '565', 'Natchez', 'United States', 'AHooper@example.com', '(555)123-7818', 'MS', '39120', 'Alec', 'Hooper', '2023-06-20 11:54', 'wm', 123456100, 'Main Street North', 'Main Street North, 656', 21, '4210653310061055', 123456100, 22, 5, 20561, 'Test', 24.53, 2018, 'Tacoma', 21, 'Example Bank', '1234362433', 'WA', '2nd Avenue', 98444, '2018-04-18T16:51:47.000-04:00')\n",
      "('388', '4210653323781193', 'Natchez', 'United States', 'FCarson@example.com', '(555)124-0939', 'MS', '39120', 'Fermin', 'Carson', '2018-04-21T12:49:02.000-04:00', 'kip', 123455582, '6th Street North', '6th Street North, 388', 124, '4210653323781193', 123455582, 21, 5, 22988, 'Bills', 64.77, 2018, 'Osseo', 124, 'Example Bank', '1234134552', 'MN', 'Bay Street', 55311, '2018-04-18T16:51:47.000-04:00')\n",
      "('21', '4210653374740577', 'Natchez', 'United States', 'KTodd@example.com', '(555)123-8952', 'MS', '39120', 'Kraig', 'Todd', '2018-04-21T12:49:02.000-04:00', 'dolores', 123459564, 'Durham Court', 'Durham Court, 21', 131, '4210653374740577', 123459564, 21, 5, 2218, 'Education', 47.45, 2018, 'Valrico', 131, 'Example Bank', '1234880523', 'FL', 'Orchard Lane', 33594, '2018-04-18T16:51:47.000-04:00')\n",
      "('718', '4210653362697310', 'Natchez', 'United States', 'MHagan@example.com', '(555)124-3335', 'MS', '39120', 'Melissa', 'Hagan', '2018-04-21T12:49:02.000-04:00', 'clifton', 123459262, 'Parker Street', 'Parker Street, 718', 10, '4210653362697310', 123459262, 19, 5, 3533, 'Gas', 77.09, 2018, 'NorthOlmsted', 10, 'Example Bank', '1234145047', 'OH', 'Cambridge Road', 44070, '2018-04-18T16:51:47.000-04:00')\n",
      "('731', '4210653390959197', 'Natchez', 'United States', 'ODickinson@example.com', '(555)123-6684', 'MS', '39120', 'Omer', 'Dickinson', '2018-04-21T12:49:02.000-04:00', 'lauri', 123457054, 'Cross Street', 'Cross Street, 731', 192, '4210653390959197', 123457054, 18, 5, 15813, 'Bills', 9.27, 2018, 'Lititz', 192, 'Example Bank', '1234937904', 'PA', 'Glenwood Drive', 17543, '2018-04-18T16:51:47.000-04:00')\n",
      "('109', '4210653396189363', 'Natchez', 'United States', 'BWare@example.com', '(555)124-2316', 'MS', '39120', 'Blair', 'Ware', '2018-04-21T12:49:02.000-04:00', 'antone', 123457139, 'Linden Street', 'Linden Street, 109', 46, '4210653396189363', 123457139, 18, 5, 15186, 'Test', 44.25, 2018, 'Levittown', 46, 'Example Bank', '1234947541', 'NY', 'Jones Street', 11756, '2018-04-18T16:51:47.000-04:00')\n",
      "('801', '4210653387378802', 'Natchez', 'United States', 'JMacias@example.com', '(555)124-0476', 'MS', '39120', 'Judson', 'Macias', '2018-04-21T12:49:02.000-04:00', 'lauri', 123457047, 'Summit Avenue', 'Summit Avenue, 801', 48, '4210653387378802', 123457047, 18, 5, 15829, 'Grocery', 64.83, 2018, 'Bartlett', 48, 'Example Bank', '1234105725', 'IL', 'Cedar Avenue', 60103, '2018-04-18T16:51:47.000-04:00')\n",
      "('111', '565', 'Natchez', 'United States', 'AHooper@example.com', '(555)123-7818', 'MS', '39120', 'Alec', 'Hooper', '2023-06-20 11:54', 'wm', 123456100, 'Main Street North', 'Main Street North, 656', 58, '4210653310061055', 123456100, 17, 5, 20530, 'Healthcare', 27.69, 2018, 'Rossville', 58, 'Example Bank', '1234335491', 'GA', 'Hickory Street', 30741, '2018-04-18T16:51:47.000-04:00')\n",
      "('384', '4210653359877473', 'Natchez', 'United States', 'ICramer@example.com', '(555)123-8679', 'MS', '39120', 'Isabel', 'Cramer', '2018-04-21T12:49:02.000-04:00', 'james', 123457519, 'Sheffield Drive', 'Sheffield Drive, 384', 51, '4210653359877473', 123457519, 17, 5, 12648, 'Entertainment', 61.84, 2018, 'Lombard', 51, 'Example Bank', '1234132382', 'IL', 'Route 20', 60148, '2018-04-18T16:51:47.000-04:00')\n",
      "('388', '4210653323781193', 'Natchez', 'United States', 'FCarson@example.com', '(555)124-0939', 'MS', '39120', 'Fermin', 'Carson', '2018-04-21T12:49:02.000-04:00', 'kip', 123455582, '6th Street North', '6th Street North, 388', 19, '4210653323781193', 123455582, 16, 5, 23020, 'Grocery', 60.78, 2018, 'SilverSpring', 19, 'Example Bank', '1234484380', 'MD', 'King Street', 20901, '2018-04-18T16:51:47.000-04:00')\n",
      "('109', '4210653396189363', 'Natchez', 'United States', 'BWare@example.com', '(555)124-2316', 'MS', '39120', 'Blair', 'Ware', '2018-04-21T12:49:02.000-04:00', 'antone', 123457139, 'Linden Street', 'Linden Street, 109', 100, '4210653396189363', 123457139, 16, 5, 15197, 'Gas', 55.02, 2018, 'Wellington', 100, 'Example Bank', '1234809695', 'FL', 'New Street', 33414, '2018-04-18T16:51:47.000-04:00')\n",
      "('21', '4210653374740577', 'Natchez', 'United States', 'KTodd@example.com', '(555)123-8952', 'MS', '39120', 'Kraig', 'Todd', '2018-04-21T12:49:02.000-04:00', 'dolores', 123459564, 'Durham Court', 'Durham Court, 21', 139, '4210653374740577', 123459564, 15, 5, 2192, 'Education', 11.29, 2018, 'SanLorenzo', 139, 'Example Bank', '1234547241', 'CA', 'Jefferson Street', 94580, '2018-04-18T16:51:47.000-04:00')\n",
      "('801', '4210653387378802', 'Natchez', 'United States', 'JMacias@example.com', '(555)124-0476', 'MS', '39120', 'Judson', 'Macias', '2018-04-21T12:49:02.000-04:00', 'lauri', 123457047, 'Summit Avenue', 'Summit Avenue, 801', 56, '4210653387378802', 123457047, 15, 5, 15832, 'Gas', 68.09, 2018, 'Rowlett', 56, 'Example Bank', '1234852596', 'TX', 'State Street East', 75088, '2018-04-18T16:51:47.000-04:00')\n",
      "('801', '4210653387378802', 'Natchez', 'United States', 'JMacias@example.com', '(555)124-0476', 'MS', '39120', 'Judson', 'Macias', '2018-04-21T12:49:02.000-04:00', 'lauri', 123457047, 'Summit Avenue', 'Summit Avenue, 801', 73, '4210653387378802', 123457047, 15, 5, 15846, 'Grocery', 4.73, 2018, 'Oconomowoc', 73, 'Example Bank', '1234845883', 'WI', 'Maple Lane', 53066, '2018-04-18T16:51:47.000-04:00')\n",
      "('109', '4210653396189363', 'Natchez', 'United States', 'BWare@example.com', '(555)124-2316', 'MS', '39120', 'Blair', 'Ware', '2018-04-21T12:49:02.000-04:00', 'antone', 123457139, 'Linden Street', 'Linden Street, 109', 178, '4210653396189363', 123457139, 14, 5, 15196, 'Grocery', 26.53, 2018, 'Baldwin', 178, 'Example Bank', '1234612707', 'NY', '8th Street West', 11510, '2018-04-18T16:51:47.000-04:00')\n",
      "('109', '4210653396189363', 'Natchez', 'United States', 'BWare@example.com', '(555)124-2316', 'MS', '39120', 'Blair', 'Ware', '2018-04-21T12:49:02.000-04:00', 'antone', 123457139, 'Linden Street', 'Linden Street, 109', 95, '4210653396189363', 123457139, 14, 5, 15249, 'Bills', 42.07, 2018, 'Apopka', 95, 'Example Bank', '1234667289', 'FL', 'Madison Street', 32703, '2018-04-18T16:51:47.000-04:00')\n",
      "('109', '4210653396189363', 'Natchez', 'United States', 'BWare@example.com', '(555)124-2316', 'MS', '39120', 'Blair', 'Ware', '2018-04-21T12:49:02.000-04:00', 'antone', 123457139, 'Linden Street', 'Linden Street, 109', 192, '4210653396189363', 123457139, 13, 5, 15185, 'Gas', 86.93, 2018, 'Lititz', 192, 'Example Bank', '1234937904', 'PA', 'Glenwood Drive', 17543, '2018-04-18T16:51:47.000-04:00')\n",
      "('109', '4210653396189363', 'Natchez', 'United States', 'BWare@example.com', '(555)124-2316', 'MS', '39120', 'Blair', 'Ware', '2018-04-21T12:49:02.000-04:00', 'antone', 123457139, 'Linden Street', 'Linden Street, 109', 60, '4210653396189363', 123457139, 13, 5, 15250, 'Gas', 34.14, 2018, 'Richmond', 60, 'Example Bank', '1234524034', 'VA', 'Front Street', 23223, '2018-04-18T16:51:47.000-04:00')\n",
      "('801', '4210653387378802', 'Natchez', 'United States', 'JMacias@example.com', '(555)124-0476', 'MS', '39120', 'Judson', 'Macias', '2018-04-21T12:49:02.000-04:00', 'lauri', 123457047, 'Summit Avenue', 'Summit Avenue, 801', 19, '4210653387378802', 123457047, 13, 5, 15819, 'Test', 13.83, 2018, 'SilverSpring', 19, 'Example Bank', '1234484380', 'MD', 'King Street', 20901, '2018-04-18T16:51:47.000-04:00')\n",
      "('21', '4210653374740577', 'Natchez', 'United States', 'KTodd@example.com', '(555)123-8952', 'MS', '39120', 'Kraig', 'Todd', '2018-04-21T12:49:02.000-04:00', 'dolores', 123459564, 'Durham Court', 'Durham Court, 21', 44, '4210653374740577', 123459564, 12, 5, 2202, 'Test', 96.98, 2018, 'Greenville', 44, 'Example Bank', '1234736019', 'NC', '12th Street East', 27834, '2018-04-18T16:51:47.000-04:00')\n",
      "('801', '4210653387378802', 'Natchez', 'United States', 'JMacias@example.com', '(555)124-0476', 'MS', '39120', 'Judson', 'Macias', '2018-04-21T12:49:02.000-04:00', 'lauri', 123457047, 'Summit Avenue', 'Summit Avenue, 801', 46, '4210653387378802', 123457047, 10, 5, 15828, 'Education', 44.47, 2018, 'Levittown', 46, 'Example Bank', '1234947541', 'NY', 'Jones Street', 11756, '2018-04-18T16:51:47.000-04:00')\n",
      "('111', '565', 'Natchez', 'United States', 'AHooper@example.com', '(555)123-7818', 'MS', '39120', 'Alec', 'Hooper', '2023-06-20 11:54', 'wm', 123456100, 'Main Street North', 'Main Street North, 656', 188, '4210653310061055', 123456100, 9, 5, 20537, 'Bills', 28.68, 2018, 'Quincy', 188, 'Example Bank', '1234259065', 'MA', 'Lincoln Avenue', 2169, '2018-04-18T16:51:47.000-04:00')\n",
      "('21', '4210653374740577', 'Natchez', 'United States', 'KTodd@example.com', '(555)123-8952', 'MS', '39120', 'Kraig', 'Todd', '2018-04-21T12:49:02.000-04:00', 'dolores', 123459564, 'Durham Court', 'Durham Court, 21', 114, '4210653374740577', 123459564, 8, 5, 2170, 'Gas', 33.4, 2018, 'PalmCity', 114, 'Example Bank', '1234172062', 'FL', 'Madison Street', 34990, '2018-04-18T16:51:47.000-04:00')\n",
      "('109', '4210653396189363', 'Natchez', 'United States', 'BWare@example.com', '(555)124-2316', 'MS', '39120', 'Blair', 'Ware', '2018-04-21T12:49:02.000-04:00', 'antone', 123457139, 'Linden Street', 'Linden Street, 109', 114, '4210653396189363', 123457139, 6, 5, 15198, 'Bills', 54.14, 2018, 'PalmCity', 114, 'Example Bank', '1234172062', 'FL', 'Madison Street', 34990, '2018-04-18T16:51:47.000-04:00')\n",
      "('109', '4210653396189363', 'Natchez', 'United States', 'BWare@example.com', '(555)124-2316', 'MS', '39120', 'Blair', 'Ware', '2018-04-21T12:49:02.000-04:00', 'antone', 123457139, 'Linden Street', 'Linden Street, 109', 156, '4210653396189363', 123457139, 6, 5, 15245, 'Grocery', 2.95, 2018, 'WestChester', 156, 'Example Bank', '1234548652', 'PA', 'Adams Street', 19380, '2018-04-18T16:51:47.000-04:00')\n",
      "('801', '4210653387378802', 'Natchez', 'United States', 'JMacias@example.com', '(555)124-0476', 'MS', '39120', 'Judson', 'Macias', '2018-04-21T12:49:02.000-04:00', 'lauri', 123457047, 'Summit Avenue', 'Summit Avenue, 801', 66, '4210653387378802', 123457047, 6, 5, 15839, 'Education', 70.92, 2018, 'Syosset', 66, 'Example Bank', '1234656568', 'NY', 'Winding Way', 11791, '2018-04-18T16:51:47.000-04:00')\n",
      "('21', '4210653374740577', 'Natchez', 'United States', 'KTodd@example.com', '(555)123-8952', 'MS', '39120', 'Kraig', 'Todd', '2018-04-21T12:49:02.000-04:00', 'dolores', 123459564, 'Durham Court', 'Durham Court, 21', 115, '4210653374740577', 123459564, 5, 5, 2171, 'Grocery', 78.9, 2018, 'MurrellsInlet', 115, 'Example Bank', '1234908194', 'SC', 'Jefferson Street', 29576, '2018-04-18T16:51:47.000-04:00')\n",
      "('388', '4210653323781193', 'Natchez', 'United States', 'FCarson@example.com', '(555)124-0939', 'MS', '39120', 'Fermin', 'Carson', '2018-04-21T12:49:02.000-04:00', 'kip', 123455582, '6th Street North', '6th Street North, 388', 80, '4210653323781193', 123455582, 5, 5, 22986, 'Entertainment', 76.34, 2018, 'Enterprise', 80, 'Example Bank', '1234228258', 'AL', 'Court Street', 36330, '2018-04-18T16:51:47.000-04:00')\n",
      "('109', '4210653396189363', 'Natchez', 'United States', 'BWare@example.com', '(555)124-2316', 'MS', '39120', 'Blair', 'Ware', '2018-04-21T12:49:02.000-04:00', 'antone', 123457139, 'Linden Street', 'Linden Street, 109', 123, '4210653396189363', 123457139, 4, 5, 15182, 'Education', 3.89, 2018, 'DeerfieldBeach', 123, 'Example Bank', '1234365113', 'FL', 'Willow Avenue', 33442, '2018-04-18T16:51:47.000-04:00')\n",
      "('109', '4210653396189363', 'Natchez', 'United States', 'BWare@example.com', '(555)124-2316', 'MS', '39120', 'Blair', 'Ware', '2018-04-21T12:49:02.000-04:00', 'antone', 123457139, 'Linden Street', 'Linden Street, 109', 47, '4210653396189363', 123457139, 3, 5, 15179, 'Gas', 2.47, 2018, 'NewBerlin', 47, 'Example Bank', '1234873625', 'WI', 'Route 10', 53151, '2018-04-18T16:51:47.000-04:00')\n",
      "('718', '4210653362697310', 'Natchez', 'United States', 'MHagan@example.com', '(555)124-3335', 'MS', '39120', 'Melissa', 'Hagan', '2018-04-21T12:49:02.000-04:00', 'clifton', 123459262, 'Parker Street', 'Parker Street, 718', 192, '4210653362697310', 123459262, 3, 5, 3532, 'Gas', 18.44, 2018, 'Lititz', 192, 'Example Bank', '1234937904', 'PA', 'Glenwood Drive', 17543, '2018-04-18T16:51:47.000-04:00')\n",
      "('109', '4210653396189363', 'Natchez', 'United States', 'BWare@example.com', '(555)124-2316', 'MS', '39120', 'Blair', 'Ware', '2018-04-21T12:49:02.000-04:00', 'antone', 123457139, 'Linden Street', 'Linden Street, 109', 67, '4210653396189363', 123457139, 2, 5, 15251, 'Healthcare', 66.58, 2018, 'Baltimore', 67, 'Example Bank', '1234432768', 'MD', 'Jackson Avenue', 21206, '2018-04-18T16:51:47.000-04:00')\n",
      "Transaction Details Module\n",
      "1) Display transactions by zip code for a given month and year\n",
      "2) Display number and total values of transactions for a given type\n",
      "3) Display total number and total values of transactions for branches in a given state\n",
      "4) Exit\n"
     ]
    }
   ],
   "source": [
    "# Main program\n",
    "def main_one():\n",
    "    while True:\n",
    "        print(\"Transaction Details Module\")\n",
    "        print(\"1) Display transactions by zip code for a given month and year\")\n",
    "        print(\"2) Display number and total values of transactions for a given type\")\n",
    "        print(\"3) Display total number and total values of transactions for branches in a given state\")\n",
    "        print(\"4) Exit\")\n",
    "\n",
    "        choice = input(\"Enter your choice (1-4): \")\n",
    "\n",
    "        if choice == \"1\":\n",
    "            zip_code = input(\"Enter the zip code(Ex:12345): \")\n",
    "            month = input(\"Enter the month(For January, enter 1): \")\n",
    "            year = input(\"Enter the year(Ex:2018): \")\n",
    "            zip_transactions(zip_code, month, year)\n",
    "        elif choice == \"2\":\n",
    "            transaction_type = input(\"Enter the transaction type(Ex:Gas): \")\n",
    "            type_transactions(transaction_type)\n",
    "        elif choice == \"3\":\n",
    "            state = input(\"Enter the state(Ex:NY): \")\n",
    "            state_transactions(state)\n",
    "        elif choice == \"4\":\n",
    "            break\n",
    "        else:\n",
    "            print(\"Invalid choice. Please try again.\")\n",
    "\n",
    "if __name__ == \"__main__\":\n",
    "    main_one() "
   ]
  },
  {
   "attachments": {},
   "cell_type": "markdown",
   "metadata": {},
   "source": [
    "*****************************\n",
    "*2.2 Customer Details Module*\n",
    "*****************************"
   ]
  },
  {
   "cell_type": "code",
   "execution_count": 6,
   "metadata": {},
   "outputs": [],
   "source": [
    "import mysql.connector\n",
    "\n",
    "def display_account(customer_ssn):\n",
    "    # Establish a connection to the MySQL database\n",
    "    conn = mysql.connector.connect(user='root',\n",
    "                                   database='creditcard_capstone',\n",
    "                                   password='password',\n",
    "                                   host=\"localhost\",\n",
    "                                   port=3306)\n",
    "\n",
    "    # Create a cursor to execute SQL queries\n",
    "    cursor = conn.cursor()\n",
    "\n",
    "    # SQL query to retrieve the account details of a customer\n",
    "    query = \"\"\"\n",
    "    SELECT *\n",
    "    FROM customer\n",
    "    WHERE SSN = %s\n",
    "    \"\"\"\n",
    "\n",
    "    # Execute the query with the provided parameter\n",
    "    cursor.execute(query, (customer_ssn,))\n",
    "\n",
    "    # Fetch the result\n",
    "    result = cursor.fetchone()\n",
    "\n",
    "    # Display the account details\n",
    "    print(\"Account Details:\")\n",
    "    print(\"SSN:\", result[12])\n",
    "    print(\"First Name:\", result[8])\n",
    "    print(\"Middle Name:\", result[11])\n",
    "    print(\"Last Name:\", result[9])\n",
    "    print(\"Street Name:\", result[13])\n",
    "    print(\"City:\", result[2])\n",
    "    print(\"State:\", result[6])\n",
    "    print(\"Zip Code:\", result[7])\n",
    "    print(\"Country:\", result[3])\n",
    "    print(\"Phone:\", result[5])\n",
    "    print(\"Email:\", result[4])\n",
    "\n",
    "    # Close the cursor and the database connection\n",
    "    cursor.close()\n",
    "    conn.close()"
   ]
  },
  {
   "cell_type": "code",
   "execution_count": 7,
   "metadata": {},
   "outputs": [],
   "source": [
    "def modify_account(customer_ssn):\n",
    "    # Establish a connection to the MySQL database\n",
    "    conn = mysql.connector.connect(user='root',\n",
    "                                   database='creditcard_capstone',\n",
    "                                   password='password',\n",
    "                                   host=\"localhost\",\n",
    "                                   port=3306)\n",
    "\n",
    "    # Create a cursor to execute SQL queries\n",
    "    cursor = conn.cursor()\n",
    "    \n",
    "    column_name_dict = {0:'APT_NO',       1:'CREDIT_CARD_NO', \n",
    "                        2:'CUST_CITY',    3:'CUST_COUNTRY',\n",
    "                        4:'CUST_EMAIL',   5:'CUST_PHONE',\n",
    "                        6:'CUST_STATE',   7:'CUST_ZIP',\n",
    "                        8:'FIRST_NAME',   9:'LAST_NAME',\n",
    "                        10:'LAST_UPDATED',11:'MIDDLE_NAME',\n",
    "                        12:'SSN',         13:'STREET_NAME',\n",
    "                        14:'FULL_STREET_ADDRESS'}\n",
    "    \n",
    "    # Get user input for column name and new value\n",
    "    print(\"Field No.Key:\")\n",
    "    print(\"0 = Apartment    1 = Credit Card No.   2 = City                 3 = Country\")\n",
    "    print(\"4 = Email        5 = Phone             6 = State                7 = Zip Code\")\n",
    "    print(\"8 = First Name   9 = Last Name        10 = Last Updated Date   11 = Middle Name\")\n",
    "    print(\"12 = SS No.     13 = Street Name      14 = Full Address\")\n",
    "\n",
    "    field = int(input(\"Enter the field to modify: \"))\n",
    "    new_value = int(input(\"Enter the new value: \"))\n",
    "\n",
    "    # SQL query to update the account details of a customer\n",
    "    query = f\"UPDATE customer SET {column_name_dict.get(field)} = '{new_value}', last_updated = DATE_FORMAT(now(), '%Y-%m-%d %k:%i') WHERE SSN = {customer_ssn};\"\n",
    "    \n",
    "    cursor.execute(query)\n",
    "\n",
    "    # Commit the changes\n",
    "    conn.commit()\n",
    "\n",
    "    # Display a success message\n",
    "    print(\"Account details updated successfully.\")\n",
    "\n",
    "    # Close the cursor and the database connection\n",
    "    cursor.close()\n",
    "    conn.close()"
   ]
  },
  {
   "cell_type": "code",
   "execution_count": 8,
   "metadata": {},
   "outputs": [],
   "source": [
    "def monthly_bill(credit_card_no, month, year):\n",
    "    # Establish a connection to the MySQL database\n",
    "    conn = mysql.connector.connect(user='root',\n",
    "                                   database='creditcard_capstone',\n",
    "                                   password='password',\n",
    "                                   host=\"localhost\",\n",
    "                                   port=3306)\n",
    "\n",
    "    # Create a cursor to execute SQL queries\n",
    "    cursor = conn.cursor()\n",
    "\n",
    "    # SQL query to calculate the monthly bill for a credit card number\n",
    "    query = \"\"\"\n",
    "    SELECT SUM(Transaction_Value) AS total_bill\n",
    "    FROM creditcard\n",
    "    WHERE CREDIT_CARD_NO = %s AND MONTH = %s AND YEAR = %s\n",
    "    \"\"\"\n",
    "\n",
    "    # Execute the query with the provided parameters\n",
    "    cursor.execute(query, (credit_card_no, month, year))\n",
    "\n",
    "    # Fetch the result\n",
    "    result = cursor.fetchone()\n",
    "\n",
    "    # Display the monthly bill\n",
    "    print(\"Monthly Bill:\")\n",
    "    print(\"Credit Card Number:\", credit_card_no)\n",
    "    print(\"Month:\", month)\n",
    "    print(\"Year:\", year)\n",
    "    print(\"Total Bill:\", result[0])\n",
    "\n",
    "    # Close the cursor and the database connection\n",
    "    cursor.close()\n",
    "    conn.close()\n"
   ]
  },
  {
   "cell_type": "code",
   "execution_count": 9,
   "metadata": {},
   "outputs": [],
   "source": [
    "def dates_transactions(customer_ssn, start_date, end_date):\n",
    "    # Establish a connection to the MySQL database\n",
    "    conn = mysql.connector.connect(user='root',\n",
    "                                   database='creditcard_capstone',\n",
    "                                   password='password',\n",
    "                                   host=\"localhost\",\n",
    "                                   port=3306)\n",
    "\n",
    "    # Create a cursor to execute SQL queries\n",
    "    cursor = conn.cursor()\n",
    "\n",
    "    # SQL query to retrieve the transactions made by a customer between two dates\n",
    "    query = f\"SELECT ROUND(SUM(TRANSACTION_VALUE),2) FROM creditcard where CUST_SSN = {customer_ssn} AND DATE_ADD(DATE_ADD(MAKEDATE(`YEAR`, 1), INTERVAL (`MONTH`)-1 MONTH), INTERVAL (`DAY`)-1 DAY) between '{start_date}' and '{end_date}';\"\n",
    "\n",
    "\n",
    "    # Execute the query with the provided parameters\n",
    "    # cursor.execute(query, (customer_ssn, start_date, end_date))\n",
    "    cursor.execute(query)\n",
    "\n",
    "    # Fetch all the results\n",
    "    results = cursor.fetchall()\n",
    "\n",
    "    # Display the transaction details\n",
    "    print(\"Transactions by Customer and Dates:\")\n",
    "    for row in results:\n",
    "        print(row[0])\n",
    "\n",
    "    # Close the cursor and the database connection\n",
    "    cursor.close()\n",
    "    conn.close()\n"
   ]
  },
  {
   "cell_type": "code",
   "execution_count": 10,
   "metadata": {},
   "outputs": [
    {
     "name": "stdout",
     "output_type": "stream",
     "text": [
      "Customer Details Module\n",
      "1) Display account details of a customer\n",
      "2) Modify account details of a customer\n",
      "3) Generate monthly bill for a credit card number\n",
      "4) Display transactions made by a customer between two dates\n",
      "Account Details:\n",
      "SSN: 123456100\n",
      "First Name: Alec\n",
      "Middle Name: wm\n",
      "Last Name: Hooper\n",
      "Street Name: Main Street North\n",
      "City: Natchez\n",
      "State: MS\n",
      "Zip Code: 39120\n",
      "Country: United States\n",
      "Phone: (555)123-7818\n",
      "Email: AHooper@example.com\n",
      "Customer Details Module\n",
      "1) Display account details of a customer\n",
      "2) Modify account details of a customer\n",
      "3) Generate monthly bill for a credit card number\n",
      "4) Display transactions made by a customer between two dates\n",
      "Invalid choice. Please try again.\n",
      "Customer Details Module\n",
      "1) Display account details of a customer\n",
      "2) Modify account details of a customer\n",
      "3) Generate monthly bill for a credit card number\n",
      "4) Display transactions made by a customer between two dates\n",
      "Field No.Key:\n",
      "0 = Apartment    1 = Credit Card No.   2 = City                 3 = Country\n",
      "4 = Email        5 = Phone             6 = State                7 = Zip Code\n",
      "8 = First Name   9 = Last Name        10 = Last Updated Date   11 = Middle Name\n",
      "12 = SS No.     13 = Street Name      14 = Full Address\n",
      "Account details updated successfully.\n"
     ]
    }
   ],
   "source": [
    "# Main program\n",
    "def main_two():\n",
    "    while True:\n",
    "        print(\"Customer Details Module\")\n",
    "        print(\"1) Display account details of a customer\")\n",
    "        print(\"2) Modify account details of a customer\")\n",
    "        print(\"3) Generate monthly bill for a credit card number\")\n",
    "        print(\"4) Display transactions made by a customer between two dates\")\n",
    "\n",
    "        choice = input(\"Enter your choice (1-4): \")\n",
    "\n",
    "        if choice == \"1\":\n",
    "            customer_ssn = input(\"Enter customer SSN: \")\n",
    "            display_account(customer_ssn)\n",
    "        elif choice == \"2\":\n",
    "            customer_ssn = input(\"Enter customer SSN: \")\n",
    "            # field = input(\"Enter the field to modify: \")\n",
    "            # new_value = input(\"Enter the new value: \")\n",
    "            modify_account(customer_ssn)\n",
    "        elif choice == \"3\":\n",
    "            credit_card_no = input(\"Enter credit card number: \")\n",
    "            month = input(\"Enter month: \")\n",
    "            year = input(\"Enter year: \")\n",
    "            monthly_bill(credit_card_no, month, year)\n",
    "        elif choice == \"4\":\n",
    "            customer_ssn = input(\"Enter customer SSN: \")\n",
    "            start_date = input(\"Enter start date (YYYY-MM-DD): \")\n",
    "            end_date = input(\"Enter end date (YYYY-MM-DD): \")\n",
    "            dates_transactions(customer_ssn, start_date, end_date)\n",
    "        else:\n",
    "            print(\"Invalid choice. Please try again.\")\n",
    "\n",
    "        continue_option = input(\"Do you want to continue? (yes/no): \")\n",
    "        if continue_option.lower() != \"yes\":\n",
    "            break\n",
    "\n",
    "\n",
    "# Run the main program\n",
    "if __name__ == \"__main__\":\n",
    "    main_two()\n"
   ]
  },
  {
   "cell_type": "code",
   "execution_count": null,
   "metadata": {},
   "outputs": [],
   "source": [
    "cursor.close()\n",
    "conn.close()\n",
    "spark.stop()"
   ]
  },
  {
   "attachments": {},
   "cell_type": "markdown",
   "metadata": {},
   "source": [
    "3. Functional Requirements - Data Analysis and Visualization"
   ]
  },
  {
   "attachments": {},
   "cell_type": "markdown",
   "metadata": {},
   "source": [
    "Functional Requirements 3.1"
   ]
  },
  {
   "cell_type": "code",
   "execution_count": 99,
   "metadata": {},
   "outputs": [
    {
     "name": "stderr",
     "output_type": "stream",
     "text": [
      "C:\\Users\\ibadw\\AppData\\Local\\Temp\\ipykernel_33196\\4212519927.py:20: UserWarning: pandas only supports SQLAlchemy connectable (engine/connection) or database string URI or sqlite3 DBAPI2 connection. Other DBAPI2 objects are not tested. Please consider using SQLAlchemy.\n",
      "  df = pd.read_sql(query, conn)\n"
     ]
    },
    {
     "data": {
      "image/png": "[encoded data removed]",
      "text/plain": [
       "<Figure size 1000x600 with 1 Axes>"
      ]
     },
     "metadata": {},
     "output_type": "display_data"
    }
   ],
   "source": [
    "import matplotlib.pyplot as plt\n",
    "import pandas as pd\n",
    "import mysql.connector\n",
    "\n",
    "# Establish a connection to the MySQL database\n",
    "conn = mysql.connector.connect(user='root',\n",
    "                               database='creditcard_capstone',\n",
    "                               password='password',\n",
    "                               host=\"localhost\",\n",
    "                               port=3306)\n",
    "\n",
    "# Execute a query to get the transaction type counts\n",
    "query = \"\"\"\n",
    "SELECT TRANSACTION_TYPE, COUNT(*) AS transaction_count\n",
    "FROM creditcard\n",
    "GROUP BY TRANSACTION_TYPE\n",
    "\"\"\"\n",
    "\n",
    "# Fetch the results into a Pandas DataFrame\n",
    "df = pd.read_sql(query, conn)\n",
    "\n",
    "# Plot the transaction types and their counts\n",
    "plt.figure(figsize=(10, 6))\n",
    "bars = plt.bar(df[\"TRANSACTION_TYPE\"], df[\"transaction_count\"])\n",
    "plt.bar(df[\"TRANSACTION_TYPE\"], df[\"transaction_count\"])\n",
    "plt.xlabel(\"Transaction Type\")\n",
    "plt.ylabel(\"Transaction Count\")\n",
    "plt.title(\"Transaction Types with High Rate of Transactions\")\n",
    "plt.xticks(rotation=45)\n",
    "plt.tight_layout()\n",
    "\n",
    "# Add the total count on top of each bar\n",
    "for bar in bars:\n",
    "    height = bar.get_height()\n",
    "    plt.text(bar.get_x() + bar.get_width() / 2, height, height, ha='center', va='bottom')\n",
    "\n",
    "# Save the plot as an image\n",
    "plt.savefig(\"transaction_types.png\")\n",
    "\n",
    "# Close the database connection\n",
    "conn.close()\n"
   ]
  },
  {
   "attachments": {},
   "cell_type": "markdown",
   "metadata": {},
   "source": [
    "Functional Requirements 3.2"
   ]
  },
  {
   "cell_type": "code",
   "execution_count": 100,
   "metadata": {},
   "outputs": [
    {
     "name": "stderr",
     "output_type": "stream",
     "text": [
      "C:\\Users\\ibadw\\AppData\\Local\\Temp\\ipykernel_33196\\3932192534.py:20: UserWarning: pandas only supports SQLAlchemy connectable (engine/connection) or database string URI or sqlite3 DBAPI2 connection. Other DBAPI2 objects are not tested. Please consider using SQLAlchemy.\n",
      "  df = pd.read_sql(query, conn)\n"
     ]
    },
    {
     "data": {
      "image/png": "[encoded data removed]",
      "text/plain": [
       "<Figure size 1000x600 with 1 Axes>"
      ]
     },
     "metadata": {},
     "output_type": "display_data"
    }
   ],
   "source": [
    "import matplotlib.pyplot as plt\n",
    "import pandas as pd\n",
    "import mysql.connector\n",
    "\n",
    "# Establish a connection to the MySQL database\n",
    "conn = mysql.connector.connect(user='root',\n",
    "                               database='creditcard_capstone',\n",
    "                               password='password',\n",
    "                               host=\"localhost\",\n",
    "                               port=3306)\n",
    "\n",
    "# Execute a query to get the customer count by state\n",
    "query = \"\"\"\n",
    "SELECT CUST_STATE, COUNT(*) AS customer_count\n",
    "FROM customer\n",
    "GROUP BY CUST_STATE\n",
    "\"\"\"\n",
    "\n",
    "# Fetch the results into a Pandas DataFrame\n",
    "df = pd.read_sql(query, conn)\n",
    "\n",
    "# Plot the states and their customer counts\n",
    "plt.figure(figsize=(10, 6))\n",
    "plt.bar(df[\"CUST_STATE\"], df[\"customer_count\"])\n",
    "plt.xlabel(\"State\")\n",
    "plt.ylabel(\"Customer Count\")\n",
    "plt.title(\"States with High Number of Customers\")\n",
    "plt.xticks(rotation=45)\n",
    "plt.tight_layout()\n",
    "\n",
    "# Show grid lines on the y-axis\n",
    "plt.grid(axis='y')\n",
    "\n",
    "# Save the plot as an image\n",
    "plt.savefig(\"states_customer_count.png\")\n",
    "\n",
    "# Close the database connection\n",
    "conn.close()\n"
   ]
  },
  {
   "attachments": {},
   "cell_type": "markdown",
   "metadata": {},
   "source": [
    "Functional Requirements 3.3"
   ]
  },
  {
   "cell_type": "code",
   "execution_count": 2,
   "metadata": {},
   "outputs": [
    {
     "name": "stderr",
     "output_type": "stream",
     "text": [
      "C:\\Users\\ibadw\\AppData\\Local\\Temp\\ipykernel_17960\\3417539862.py:28: UserWarning: pandas only supports SQLAlchemy connectable (engine/connection) or database string URI or sqlite3 DBAPI2 connection. Other DBAPI2 objects are not tested. Please consider using SQLAlchemy.\n",
      "  df = pd.read_sql(query, conn)\n"
     ]
    },
    {
     "name": "stdout",
     "output_type": "stream",
     "text": [
      "Customer with the highest transaction amount:\n",
      "CUST_SSN        123451125\n",
      "total_amount      5633.07\n",
      "Name: 0, dtype: object\n"
     ]
    },
    {
     "data": {
      "image/png": "[encoded data removed]",
      "text/plain": [
       "<Figure size 1000x600 with 1 Axes>"
      ]
     },
     "metadata": {},
     "output_type": "display_data"
    }
   ],
   "source": [
    "import matplotlib.pyplot as plt\n",
    "import pandas as pd\n",
    "import mysql.connector\n",
    "\n",
    "# Establish a connection to the MySQL database\n",
    "conn = mysql.connector.connect(user='root',\n",
    "                               database='creditcard_capstone',\n",
    "                               password='password',\n",
    "                               host=\"localhost\",\n",
    "                               port=3306)\n",
    "\n",
    "# Execute a query to get the sum of transactions for the top 10 customers\n",
    "query = \"\"\"\n",
    "SELECT \n",
    "\tCAST(CUST_SSN AS char) AS CUST_SSN,\n",
    "\ttotal_amount\n",
    "FROM\n",
    "(\n",
    "SELECT CUST_SSN, ROUND(SUM(Transaction_Value),2) AS total_amount, RANK() OVER(ORDER BY SUM(Transaction_Value) DESC) as rankid\n",
    "FROM creditcard\n",
    "GROUP BY CUST_SSN\n",
    "ORDER BY total_amount DESC\n",
    ") nest\n",
    "WHERE nest.rankid <= 10;\n",
    "\"\"\"\n",
    "\n",
    "# # Fetch the result into a Pandas DataFrame\n",
    "df = pd.read_sql(query, conn)\n",
    "\n",
    "# Plot the sum of transactions for the top 10 customers\n",
    "plt.figure(figsize=(10, 6))\n",
    "bars = plt.bar(df['CUST_SSN'], df['total_amount'])\n",
    "plt.xlabel('Customer SSN')\n",
    "plt.ylabel('Total Transaction Amount')\n",
    "plt.title('Sum of Transactions for Top 10 Customers')\n",
    "plt.xticks(rotation=45)\n",
    "plt.tight_layout()\n",
    "\n",
    "# Add the total count on top of each bar\n",
    "for bar in bars:\n",
    "    height = bar.get_height()\n",
    "    plt.text(bar.get_x() + bar.get_width() / 2, height, height, ha='center', va='bottom')\n",
    "\n",
    "# Save the plot as an image\n",
    "plt.savefig('top_10_customers_transactions.png')\n",
    "\n",
    "# # Get the customer with the highest transaction amount\n",
    "customer_with_highest_amount = df.loc[df['total_amount'].idxmax()]\n",
    "\n",
    "# # Print the customer with the highest transaction amount\n",
    "print(\"Customer with the highest transaction amount:\")\n",
    "print(customer_with_highest_amount)\n",
    "\n",
    "# Close the database connection\n",
    "conn.close()\n"
   ]
  },
  {
   "attachments": {},
   "cell_type": "markdown",
   "metadata": {},
   "source": [
    "*********************************************************\n",
    "* IV Functional Requirements - LOAN Application Dataset *\n",
    "*********************************************************"
   ]
  },
  {
   "attachments": {},
   "cell_type": "markdown",
   "metadata": {},
   "source": [
    "4.1 Create a Python program to GET (consume) data from the above API endpoint for the loan application dataset."
   ]
  },
  {
   "cell_type": "code",
   "execution_count": 14,
   "metadata": {},
   "outputs": [
    {
     "name": "stdout",
     "output_type": "stream",
     "text": [
      "+--------------+------------------+--------------+----------+------------+------+------+-------+-------------+-------------+\n",
      "|Application_ID|Application_Status|Credit_History|Dependents|   Education|Gender|Income|Married|Property_Area|Self_Employed|\n",
      "+--------------+------------------+--------------+----------+------------+------+------+-------+-------------+-------------+\n",
      "|      LP001002|                 Y|             1|         0|    Graduate|  Male|medium|     No|        Urban|           No|\n",
      "|      LP001003|                 N|             1|         1|    Graduate|  Male|medium|    Yes|        Rural|           No|\n",
      "|      LP001005|                 Y|             1|         0|    Graduate|  Male|   low|    Yes|        Urban|          Yes|\n",
      "|      LP001006|                 Y|             1|         0|Not Graduate|  Male|   low|    Yes|        Urban|           No|\n",
      "|      LP001008|                 Y|             1|         0|    Graduate|  Male|medium|     No|        Urban|           No|\n",
      "|      LP001011|                 Y|             1|         2|    Graduate|  Male|medium|    Yes|        Urban|          Yes|\n",
      "|      LP001013|                 Y|             1|         0|Not Graduate|  Male|   low|    Yes|        Urban|           No|\n",
      "|      LP001014|                 N|             0|        3+|    Graduate|  Male|   low|    Yes|    Semiurban|           No|\n",
      "|      LP001018|                 Y|             1|         2|    Graduate|  Male|medium|    Yes|        Urban|           No|\n",
      "|      LP001020|                 N|             1|         1|    Graduate|  Male|  high|    Yes|    Semiurban|           No|\n",
      "|      LP001024|                 Y|             1|         2|    Graduate|  Male|   low|    Yes|        Urban|           No|\n",
      "|      LP001028|                 Y|             1|         2|    Graduate|  Male|   low|    Yes|        Urban|           No|\n",
      "|      LP001029|                 N|             1|         0|    Graduate|  Male|   low|     No|        Rural|           No|\n",
      "|      LP001030|                 Y|             1|         2|    Graduate|  Male|   low|    Yes|        Urban|           No|\n",
      "|      LP001032|                 Y|             1|         0|    Graduate|  Male|medium|     No|        Urban|           No|\n",
      "|      LP001036|                 N|             0|         0|    Graduate|Female|   low|     No|        Urban|           No|\n",
      "|      LP001038|                 N|             1|         0|Not Graduate|  Male|medium|    Yes|        Rural|           No|\n",
      "|      LP001043|                 N|             0|         0|Not Graduate|  Male|medium|    Yes|        Urban|           No|\n",
      "|      LP001046|                 Y|             1|         1|    Graduate|  Male|medium|    Yes|        Urban|           No|\n",
      "|      LP001047|                 N|             0|         0|Not Graduate|  Male|   low|    Yes|    Semiurban|           No|\n",
      "+--------------+------------------+--------------+----------+------------+------+------+-------+-------------+-------------+\n",
      "only showing top 20 rows\n",
      "\n"
     ]
    }
   ],
   "source": [
    "from pyspark.sql import SparkSession, functions as F\n",
    "from urllib.request import urlopen\n",
    "import requests\n",
    "\n",
    "spark = SparkSession.builder.getOrCreate()\n",
    "\n",
    "url = 'https://raw.githubusercontent.com/platformps/LoanDataset/main/loan_data.json'\n",
    "\n",
    "# Send GET request to the API endpoint\n",
    "response = requests.get(url)\n",
    "\n",
    "# Check if the request was successful (status code 200)\n",
    "if response.status_code == 200:\n",
    "    # # Get the loan application data from the response\n",
    "    # loan_data = response.json()\n",
    "\n",
    "    # # Print the loan application data\n",
    "    # print(loan_data)\n",
    "    \n",
    "    # Load the json data into a spark dataframe\n",
    "    jsonData = urlopen(url).read().decode('utf-8')\n",
    "    rdd = spark.sparkContext.parallelize([jsonData])\n",
    "    df = spark.read.json(rdd)\n",
    "    \n",
    "    #BONUS: Instead of just showing the dataframe df, created a temp view for it.\n",
    "\n",
    "    # Create a temporary view based on the spark dataframe \n",
    "    df.createOrReplaceGlobalTempView(\"loan_data\")\n",
    "\n",
    "    # Create a standard Dataframe by quering the temporary view\n",
    "    loan_result_df = spark.sql(\"SELECT * FROM global_temp.loan_data\")\n",
    "    loan_result_df.show()\n",
    "\n",
    "else:\n",
    "    print(\"Error: Failed to retrieve loan application data from the API.\")\n"
   ]
  },
  {
   "attachments": {},
   "cell_type": "markdown",
   "metadata": {},
   "source": [
    "4.2\n",
    "Find the status code of the above API endpoint.\n",
    "Hint: status code could be 200, 400, 404, 401."
   ]
  },
  {
   "cell_type": "code",
   "execution_count": 15,
   "metadata": {},
   "outputs": [
    {
     "name": "stdout",
     "output_type": "stream",
     "text": [
      "Status Code: 200\n"
     ]
    }
   ],
   "source": [
    "from pyspark.sql import SparkSession, functions as F\n",
    "from urllib.request import urlopen\n",
    "import requests\n",
    "\n",
    "# API endpoint URL\n",
    "url = \"https://raw.githubusercontent.com/platformps/LoanDataset/main/loan_data.json\"\n",
    "\n",
    "# Send GET request to the API endpoint\n",
    "response = requests.get(url)\n",
    "\n",
    "# Print the status code of the response\n",
    "print(\"Status Code:\", response.status_code)"
   ]
  },
  {
   "attachments": {},
   "cell_type": "markdown",
   "metadata": {},
   "source": [
    "4.3\n",
    "Once Python reads data from the API, utilize PySpark to load data into RDBMS (SQL).\n",
    "The table name should be CDW-SAPP_loan_application in the database.\n",
    "Note: Use the “creditcard_capstone” database."
   ]
  },
  {
   "cell_type": "code",
   "execution_count": 16,
   "metadata": {},
   "outputs": [],
   "source": [
    "from pyspark.sql import SparkSession\n",
    "\n",
    "spark = SparkSession.builder.appName(\"Loan Application Data\").getOrCreate()\n",
    "\n",
    "# Load loan application data from API into PySpark DataFrame\n",
    "url = \"https://raw.githubusercontent.com/platformps/LoanDataset/main/loan_data.json\"\n",
    "# loan_data = spark.read.json(url)\n",
    "\n",
    "# Send GET request to the API endpoint\n",
    "response = requests.get(url)\n",
    "\n",
    "# Check if the request was successful (status code 200)\n",
    "if response.status_code == 200:\n",
    "\n",
    "    # Read Data, Create and RDD and load into Spark Dataframe\n",
    "    jsonData = urlopen(url).read().decode('utf-8')\n",
    "    rdd = spark.sparkContext.parallelize([jsonData])\n",
    "    loan_data = spark.read.json(rdd)\n",
    "\n",
    "# Write loan application data to the RDBMS table\n",
    "    loan_data.write \\\n",
    "        .format(\"jdbc\") \\\n",
    "        .option(\"driver\",\"com.mysql.cj.jdbc.Driver\") \\\n",
    "        .option(\"url\", \"jdbc:mysql://localhost:3306/creditcard_capstone\") \\\n",
    "        .option(\"dbtable\", \"CDW_SAPP_loan_application\") \\\n",
    "        .option(\"user\", \"root\") \\\n",
    "        .option(\"password\", \"password\") \\\n",
    "        .mode(\"overwrite\") \\\n",
    "        .save()\n",
    "\n",
    "# Stop the SparkSession\n",
    "spark.stop()\n"
   ]
  },
  {
   "attachments": {},
   "cell_type": "markdown",
   "metadata": {},
   "source": [
    "V. Functional Requirements - Data Analysis and Visualization for LOAN Application"
   ]
  },
  {
   "attachments": {},
   "cell_type": "markdown",
   "metadata": {},
   "source": [
    "5.1\n",
    "Find and plot the percentage of applications approved for self-employed applicants.\n",
    "Note: Take a screenshot of the graph. "
   ]
  },
  {
   "cell_type": "code",
   "execution_count": null,
   "metadata": {},
   "outputs": [
    {
     "name": "stderr",
     "output_type": "stream",
     "text": [
      "C:\\Users\\ibadw\\AppData\\Local\\Temp\\ipykernel_25540\\1840950364.py:22: UserWarning: pandas only supports SQLAlchemy connectable (engine/connection) or database string URI or sqlite3 DBAPI2 connection. Other DBAPI2 objects are not tested. Please consider using SQLAlchemy.\n",
      "  df = pd.read_sql(query, conn)\n"
     ]
    },
    {
     "data": {
      "image/png": "[encoded data removed]",
      "text/plain": [
       "<Figure size 600x600 with 1 Axes>"
      ]
     },
     "metadata": {},
     "output_type": "display_data"
    }
   ],
   "source": [
    "import matplotlib.pyplot as plt\n",
    "import pandas as pd\n",
    "import mysql.connector\n",
    "\n",
    "# Establish a connection to the MySQL database\n",
    "conn = mysql.connector.connect(user='root', \n",
    "                               database='creditcard_capstone',\n",
    "                               password='password',\n",
    "                               host=\"localhost\",\n",
    "                               port=3306)\n",
    "cursor = conn.cursor()\n",
    "\n",
    "# Execute a query to get the count of approved and self-employed applications\n",
    "query = \"\"\"\n",
    "SELECT COUNT(*) AS total_count,\n",
    "       SUM(CASE WHEN Application_Status = 'Y' THEN 1 ELSE 0 END) AS self_employed_count\n",
    "FROM CDW_SAPP_loan_application\n",
    "WHERE Self_Employed = 'Yes'\n",
    "\"\"\"\n",
    "\n",
    "# Fetch the result into a Pandas DataFrame\n",
    "df = pd.read_sql(query, conn)\n",
    "\n",
    "# Calculate the percentage of applications approved for self-employed applicants\n",
    "self_employed_percentage = (df['self_employed_count'] / df['total_count']) * 100\n",
    "\n",
    "# Plot the percentage of applications approved for self-employed applicants\n",
    "plt.figure(figsize=(6, 6))\n",
    "plt.pie([self_employed_percentage[0], 100 - self_employed_percentage[0]],\n",
    "        labels=['Approved', 'Not Approved'],\n",
    "        autopct='%1.1f%%')\n",
    "plt.title('Percentage of Applications Approved for Self-employed Applicants')\n",
    "plt.tight_layout()\n",
    "\n",
    "# Save the plot as an image\n",
    "plt.savefig('self_employed_approval_percentage.png')\n",
    "\n",
    "# Close the database connection\n",
    "conn.close()\n"
   ]
  },
  {
   "attachments": {},
   "cell_type": "markdown",
   "metadata": {},
   "source": [
    "5.2\n",
    "Find the percentage of rejection for married male applicants.\n",
    "Note: Take a screenshot of the graph."
   ]
  },
  {
   "attachments": {},
   "cell_type": "markdown",
   "metadata": {},
   "source": [
    "5.3\n",
    "Find and plot the top three months with the largest transaction data.\n",
    "Note: Take a screenshot of the graph."
   ]
  },
  {
   "attachments": {},
   "cell_type": "markdown",
   "metadata": {},
   "source": [
    "5.4\n",
    "Find and plot which branch processed the highest total dollar value of healthcare transactions.\n",
    "Note: Take a screenshot of the graph. "
   ]
  }
 ],
 "metadata": {
  "kernelspec": {
   "display_name": "Python 3",
   "language": "python",
   "name": "python3"
  },
  "language_info": {
   "codemirror_mode": {
    "name": "ipython",
    "version": 3
   },
   "file_extension": ".py",
   "mimetype": "text/x-python",
   "name": "python",
   "nbconvert_exporter": "python",
   "pygments_lexer": "ipython3",
   "version": "3.10.10"
  },
  "orig_nbformat": 4
 },
 "nbformat": 4,
 "nbformat_minor": 2
}
